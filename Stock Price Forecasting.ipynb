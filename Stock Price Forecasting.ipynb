{
 "cells": [
  {
   "cell_type": "markdown",
   "metadata": {},
   "source": [
    "# Stock Price Forecasting Using Machine Learning Strategies"
   ]
  },
  {
   "cell_type": "markdown",
   "metadata": {},
   "source": [
    "## 1. Introduction\n",
    "<div style=\"text-align: justify\">Stock price forecasting is important in finance and economics, but it has been regarded as one of the most challenging applications. Numeral models have been developed to provide more accurate predictions (Pai and Lin, 2004; Aderemi et al., 2004; Lee et al., 2007; Hiransha et al., 2019 etc.). Three different methods were implemented to predict the stock price using Microsoft historical stock price. The first method was seasonal Autoregressive Integrated Moving Average (SARIMA) model, which is one of the most widely used model traditionally. The second model was Recurrent Neural Network (RNN) which is considered as non-linear statistical data tool and it can learn the underlying patterns from the data (Jabin, 2014; Rather et al., 2015; Hiransha et al., 2018). The third model is Prophet from Facebook which is developed very recently (Tylor and Letham, 2017). Predictions from each model compared to the actual stock price and model evaluation metrics were used to compare the different models.</div>"
   ]
  },
  {
   "cell_type": "markdown",
   "metadata": {},
   "source": [
    "## 2. Objectives\n",
    "<div style=\"text-align: justify\">The objective of this project is to predict stock price using historical stock price data. Three different methods will be introduced and the prediction results from each model will be evaluated and compared to choose the most suitable stock price prediction model from the given data set.</div> "
   ]
  },
  {
   "cell_type": "markdown",
   "metadata": {},
   "source": [
    "## 3. Data\n",
    "Historical stock prices of Microsoft for the past 10 years (from July 15th, 2010 to July 14th, 2020) were used in this study. "
   ]
  },
  {
   "cell_type": "code",
   "execution_count": 1,
   "metadata": {},
   "outputs": [],
   "source": [
    "import pandas as pd\n",
    "import numpy as np\n",
    "%matplotlib inline\n",
    "import matplotlib.pyplot as plt"
   ]
  },
  {
   "cell_type": "code",
   "execution_count": 30,
   "metadata": {
    "scrolled": true
   },
   "outputs": [
    {
     "data": {
      "text/html": [
       "<div>\n",
       "<style scoped>\n",
       "    .dataframe tbody tr th:only-of-type {\n",
       "        vertical-align: middle;\n",
       "    }\n",
       "\n",
       "    .dataframe tbody tr th {\n",
       "        vertical-align: top;\n",
       "    }\n",
       "\n",
       "    .dataframe thead th {\n",
       "        text-align: right;\n",
       "    }\n",
       "</style>\n",
       "<table border=\"1\" class=\"dataframe\">\n",
       "  <thead>\n",
       "    <tr style=\"text-align: right;\">\n",
       "      <th></th>\n",
       "      <th>Close</th>\n",
       "    </tr>\n",
       "    <tr>\n",
       "      <th>Date</th>\n",
       "      <th></th>\n",
       "    </tr>\n",
       "  </thead>\n",
       "  <tbody>\n",
       "    <tr>\n",
       "      <td>2010-07-15</td>\n",
       "      <td>25.510000</td>\n",
       "    </tr>\n",
       "    <tr>\n",
       "      <td>2010-07-16</td>\n",
       "      <td>24.889999</td>\n",
       "    </tr>\n",
       "    <tr>\n",
       "      <td>2010-07-19</td>\n",
       "      <td>25.230000</td>\n",
       "    </tr>\n",
       "    <tr>\n",
       "      <td>2010-07-20</td>\n",
       "      <td>25.480000</td>\n",
       "    </tr>\n",
       "    <tr>\n",
       "      <td>2010-07-21</td>\n",
       "      <td>25.120001</td>\n",
       "    </tr>\n",
       "  </tbody>\n",
       "</table>\n",
       "</div>"
      ],
      "text/plain": [
       "                Close\n",
       "Date                 \n",
       "2010-07-15  25.510000\n",
       "2010-07-16  24.889999\n",
       "2010-07-19  25.230000\n",
       "2010-07-20  25.480000\n",
       "2010-07-21  25.120001"
      ]
     },
     "execution_count": 30,
     "metadata": {},
     "output_type": "execute_result"
    }
   ],
   "source": [
    "df=pd.read_csv('C:/Users/heyle/Downloads/Summer_PracticumProject/Data/MSFT.csv', index_col='Date', parse_dates=True)\n",
    "\n",
    "df=df[['Close']]\n",
    "df.head()"
   ]
  },
  {
   "cell_type": "code",
   "execution_count": 31,
   "metadata": {},
   "outputs": [
    {
     "data": {
      "text/html": [
       "<div>\n",
       "<style scoped>\n",
       "    .dataframe tbody tr th:only-of-type {\n",
       "        vertical-align: middle;\n",
       "    }\n",
       "\n",
       "    .dataframe tbody tr th {\n",
       "        vertical-align: top;\n",
       "    }\n",
       "\n",
       "    .dataframe thead th {\n",
       "        text-align: right;\n",
       "    }\n",
       "</style>\n",
       "<table border=\"1\" class=\"dataframe\">\n",
       "  <thead>\n",
       "    <tr style=\"text-align: right;\">\n",
       "      <th></th>\n",
       "      <th>Close</th>\n",
       "    </tr>\n",
       "    <tr>\n",
       "      <th>Date</th>\n",
       "      <th></th>\n",
       "    </tr>\n",
       "  </thead>\n",
       "  <tbody>\n",
       "    <tr>\n",
       "      <td>2020-07-08</td>\n",
       "      <td>212.830002</td>\n",
       "    </tr>\n",
       "    <tr>\n",
       "      <td>2020-07-09</td>\n",
       "      <td>214.320007</td>\n",
       "    </tr>\n",
       "    <tr>\n",
       "      <td>2020-07-10</td>\n",
       "      <td>213.669998</td>\n",
       "    </tr>\n",
       "    <tr>\n",
       "      <td>2020-07-13</td>\n",
       "      <td>207.070007</td>\n",
       "    </tr>\n",
       "    <tr>\n",
       "      <td>2020-07-14</td>\n",
       "      <td>208.350006</td>\n",
       "    </tr>\n",
       "  </tbody>\n",
       "</table>\n",
       "</div>"
      ],
      "text/plain": [
       "                 Close\n",
       "Date                  \n",
       "2020-07-08  212.830002\n",
       "2020-07-09  214.320007\n",
       "2020-07-10  213.669998\n",
       "2020-07-13  207.070007\n",
       "2020-07-14  208.350006"
      ]
     },
     "execution_count": 31,
     "metadata": {},
     "output_type": "execute_result"
    }
   ],
   "source": [
    "df.tail()"
   ]
  },
  {
   "cell_type": "code",
   "execution_count": 32,
   "metadata": {
    "scrolled": false
   },
   "outputs": [
    {
     "data": {
      "text/plain": [
       "[Text(0, 0.5, '$')]"
      ]
     },
     "execution_count": 32,
     "metadata": {},
     "output_type": "execute_result"
    },
    {
     "data": {
      "image/png": "[encoded data removed]",
      "text/plain": [
       "<Figure size 432x288 with 1 Axes>"
      ]
     },
     "metadata": {
      "needs_background": "light"
     },
     "output_type": "display_data"
    }
   ],
   "source": [
    "title='MSFT_Close'\n",
    "ax=df['Close'].plot(figsize=(6,4), title=title)\n",
    "ylabel='$'\n",
    "\n",
    "ax.set(ylabel=ylabel)"
   ]
  },
  {
   "cell_type": "code",
   "execution_count": 33,
   "metadata": {},
   "outputs": [
    {
     "data": {
      "text/plain": [
       "DatetimeIndex(['2010-07-15', '2010-07-16', '2010-07-19', '2010-07-20',\n",
       "               '2010-07-21', '2010-07-22', '2010-07-23', '2010-07-26',\n",
       "               '2010-07-27', '2010-07-28',\n",
       "               ...\n",
       "               '2020-06-30', '2020-07-01', '2020-07-02', '2020-07-06',\n",
       "               '2020-07-07', '2020-07-08', '2020-07-09', '2020-07-10',\n",
       "               '2020-07-13', '2020-07-14'],\n",
       "              dtype='datetime64[ns]', name='Date', length=2517, freq=None)"
      ]
     },
     "execution_count": 33,
     "metadata": {},
     "output_type": "execute_result"
    }
   ],
   "source": [
    "df.index"
   ]
  },
  {
   "cell_type": "markdown",
   "metadata": {},
   "source": [
    "df=df.asfreq('B')\n",
    "df.index"
   ]
  },
  {
   "cell_type": "code",
   "execution_count": 35,
   "metadata": {},
   "outputs": [
    {
     "data": {
      "text/plain": [
       "Close    92\n",
       "dtype: int64"
      ]
     },
     "execution_count": 35,
     "metadata": {},
     "output_type": "execute_result"
    }
   ],
   "source": [
    "df.isnull().sum()"
   ]
  },
  {
   "cell_type": "code",
   "execution_count": 37,
   "metadata": {},
   "outputs": [
    {
     "data": {
      "text/plain": [
       "Close    0\n",
       "dtype: int64"
      ]
     },
     "execution_count": 37,
     "metadata": {},
     "output_type": "execute_result"
    }
   ],
   "source": [
    "df=df.fillna(method='pad', limit=1)\n",
    "df.isna().sum()"
   ]
  },
  {
   "cell_type": "markdown",
   "metadata": {},
   "source": [
    "### The multiplicative decomposition of the dataset. Three components are shown: (a) trend, (b) seasonality, and (c) remainder component are shown below."
   ]
  },
  {
   "cell_type": "code",
   "execution_count": 44,
   "metadata": {},
   "outputs": [
    {
     "data": {
      "text/plain": [
       "<matplotlib.axes._subplots.AxesSubplot at 0x1ec84656088>"
      ]
     },
     "execution_count": 44,
     "metadata": {},
     "output_type": "execute_result"
    },
    {
     "data": {
      "image/png": "[encoded data removed]",
      "text/plain": [
       "<Figure size 432x288 with 1 Axes>"
      ]
     },
     "metadata": {
      "needs_background": "light"
     },
     "output_type": "display_data"
    }
   ],
   "source": [
    "from statsmodels.tsa.seasonal import seasonal_decompose\n",
    "results=seasonal_decompose(df['Close'])\n",
    "results.observed.plot()"
   ]
  },
  {
   "cell_type": "code",
   "execution_count": 45,
   "metadata": {},
   "outputs": [
    {
     "data": {
      "text/plain": [
       "<matplotlib.axes._subplots.AxesSubplot at 0x1ec8472c108>"
      ]
     },
     "execution_count": 45,
     "metadata": {},
     "output_type": "execute_result"
    },
    {
     "data": {
      "image/png": "[encoded data removed]",
      "text/plain": [
       "<Figure size 432x288 with 1 Axes>"
      ]
     },
     "metadata": {
      "needs_background": "light"
     },
     "output_type": "display_data"
    }
   ],
   "source": [
    "results.trend.plot()"
   ]
  },
  {
   "cell_type": "code",
   "execution_count": 46,
   "metadata": {},
   "outputs": [
    {
     "data": {
      "text/plain": [
       "<matplotlib.axes._subplots.AxesSubplot at 0x1ec8481cd48>"
      ]
     },
     "execution_count": 46,
     "metadata": {},
     "output_type": "execute_result"
    },
    {
     "data": {
      "image/png": "[encoded data removed]",
      "text/plain": [
       "<Figure size 432x288 with 1 Axes>"
      ]
     },
     "metadata": {
      "needs_background": "light"
     },
     "output_type": "display_data"
    }
   ],
   "source": [
    "#results.seasonal.plot()\n",
    "results.seasonal.plot(xlim=['2020-01-03','2020-07-02'])"
   ]
  },
  {
   "cell_type": "code",
   "execution_count": 47,
   "metadata": {},
   "outputs": [
    {
     "data": {
      "text/plain": [
       "<matplotlib.axes._subplots.AxesSubplot at 0x1ec8495a4c8>"
      ]
     },
     "execution_count": 47,
     "metadata": {},
     "output_type": "execute_result"
    },
    {
     "data": {
      "image/png": "[encoded data removed]",
      "text/plain": [
       "<Figure size 432x288 with 1 Axes>"
      ]
     },
     "metadata": {
      "needs_background": "light"
     },
     "output_type": "display_data"
    }
   ],
   "source": [
    "results.resid.plot()"
   ]
  },
  {
   "cell_type": "code",
   "execution_count": 57,
   "metadata": {
    "scrolled": false
   },
   "outputs": [
    {
     "data": {
      "image/png": "[encoded data removed]",
      "text/plain": [
       "<Figure size 432x288 with 1 Axes>"
      ]
     },
     "metadata": {
      "needs_background": "light"
     },
     "output_type": "display_data"
    }
   ],
   "source": [
    " # Average of monthly and quarterly stock prices over the last 10 years\n",
    "    \n",
    "from statsmodels.graphics.tsaplots import month_plot, quarter_plot\n",
    "dfM=df['Close'].resample(rule='M').mean()\n",
    "month_plot(dfM);"
   ]
  },
  {
   "cell_type": "code",
   "execution_count": 58,
   "metadata": {},
   "outputs": [
    {
     "data": {
      "image/png": "[encoded data removed]",
      "text/plain": [
       "<Figure size 432x288 with 1 Axes>"
      ]
     },
     "metadata": {
      "needs_background": "light"
     },
     "output_type": "display_data"
    }
   ],
   "source": [
    "dfq=df['Close'].resample(rule='Q').mean()\n",
    "quarter_plot(dfq);"
   ]
  },
  {
   "cell_type": "code",
   "execution_count": 98,
   "metadata": {},
   "outputs": [],
   "source": [
    "# Split dataset; training and test set\n",
    "\n",
    "len(df)\n",
    "len(df)-60  #2549\n",
    "\n",
    "train=df.iloc[:2549]\n",
    "test=df.iloc[2549:]"
   ]
  },
  {
   "cell_type": "code",
   "execution_count": 71,
   "metadata": {},
   "outputs": [
    {
     "data": {
      "image/png": "[encoded data removed]",
      "text/plain": [
       "<Figure size 432x288 with 1 Axes>"
      ]
     },
     "metadata": {
      "needs_background": "light"
     },
     "output_type": "display_data"
    }
   ],
   "source": [
    "from statsmodels.graphics.tsaplots import plot_acf,plot_pacf\n",
    "from statsmodels.tsa.stattools import acovf,acf,pacf,pacf_yw,pacf_ols\n",
    "\n",
    "title = 'Autocorrelation: Daily Stock Prices'\n",
    "lags = 40\n",
    "plot_acf(df,title=title,lags=lags);"
   ]
  },
  {
   "cell_type": "code",
   "execution_count": 72,
   "metadata": {},
   "outputs": [
    {
     "data": {
      "image/png": "[encoded data removed]",
      "text/plain": [
       "<Figure size 432x288 with 1 Axes>"
      ]
     },
     "metadata": {
      "needs_background": "light"
     },
     "output_type": "display_data"
    }
   ],
   "source": [
    "title='Partial Autocorrelation: Daily Female Births'\n",
    "lags=200\n",
    "plot_pacf(df,title=title,lags=lags);"
   ]
  },
  {
   "cell_type": "markdown",
   "metadata": {},
   "source": [
    "## 4. Methodology and Results\n",
    "<div style=\"text-align: justify\">Three different methods were implemented. The first one is AutoRegressive Integrated Moving Average (ARIMA) model. The second one is Recurrent Neural Network (RNN) model and the third model is using Facebook’s Prophet. After building each prediction model using all the dataset except for the last 60 days, the last (or the latest) 60 days of data were used as a test set. \n",
    "\n",
    "In order to compare the results of each model, three common evaluation metrics were used; Mean Absolute Error (MAE), Mean Squared Error (MSE),Root Mean Squared Error (RMSE). Compared to MAE, MSE better shows larger errors by taking the squared value. However, because it is squared the residual, the units are also squared, and it makes hard to interpret.</div> "
   ]
  },
  {
   "cell_type": "markdown",
   "metadata": {},
   "source": [
    "## 4-1. SARIMA model\n",
    "<div style=\"text-align: justify\">The first method implemented is Seasonal AutoRegressive Integrated Moving Average (SARIMA). ARIMA models are denoted with three parameters p, d, and q (non-negative integers). The first part of ARIMA model is Autoregression(AR) denoted with parameter, p. Autoregression is a regression model that employs the dependent relationship between a current observation and observations from a previous period of time in order of p.</div>"
   ]
  },
  {
   "cell_type": "code",
   "execution_count": 51,
   "metadata": {},
   "outputs": [
    {
     "name": "stderr",
     "output_type": "stream",
     "text": [
      "C:\\Users\\heyle\\Anaconda3_2020\\lib\\site-packages\\statsmodels\\tsa\\statespace\\sarimax.py:963: UserWarning: Non-stationary starting autoregressive parameters found. Using zeros as starting parameters.\n",
      "  warn('Non-stationary starting autoregressive parameters'\n",
      "C:\\Users\\heyle\\Anaconda3_2020\\lib\\site-packages\\statsmodels\\tsa\\statespace\\sarimax.py:975: UserWarning: Non-invertible starting MA parameters found. Using zeros as starting parameters.\n",
      "  warn('Non-invertible starting MA parameters found.'\n",
      "C:\\Users\\heyle\\Anaconda3_2020\\lib\\site-packages\\statsmodels\\tsa\\statespace\\sarimax.py:975: UserWarning: Non-invertible starting MA parameters found. Using zeros as starting parameters.\n",
      "  warn('Non-invertible starting MA parameters found.'\n",
      "C:\\Users\\heyle\\Anaconda3_2020\\lib\\site-packages\\statsmodels\\tsa\\statespace\\sarimax.py:963: UserWarning: Non-stationary starting autoregressive parameters found. Using zeros as starting parameters.\n",
      "  warn('Non-stationary starting autoregressive parameters'\n",
      "C:\\Users\\heyle\\Anaconda3_2020\\lib\\site-packages\\statsmodels\\tsa\\statespace\\sarimax.py:975: UserWarning: Non-invertible starting MA parameters found. Using zeros as starting parameters.\n",
      "  warn('Non-invertible starting MA parameters found.'\n",
      "C:\\Users\\heyle\\Anaconda3_2020\\lib\\site-packages\\statsmodels\\tsa\\statespace\\sarimax.py:963: UserWarning: Non-stationary starting autoregressive parameters found. Using zeros as starting parameters.\n",
      "  warn('Non-stationary starting autoregressive parameters'\n",
      "C:\\Users\\heyle\\Anaconda3_2020\\lib\\site-packages\\statsmodels\\tsa\\statespace\\sarimax.py:975: UserWarning: Non-invertible starting MA parameters found. Using zeros as starting parameters.\n",
      "  warn('Non-invertible starting MA parameters found.'\n",
      "C:\\Users\\heyle\\Anaconda3_2020\\lib\\site-packages\\statsmodels\\base\\model.py:568: ConvergenceWarning: Maximum Likelihood optimization failed to converge. Check mle_retvals\n",
      "  \"Check mle_retvals\", ConvergenceWarning)\n",
      "C:\\Users\\heyle\\Anaconda3_2020\\lib\\site-packages\\statsmodels\\tsa\\statespace\\sarimax.py:963: UserWarning: Non-stationary starting autoregressive parameters found. Using zeros as starting parameters.\n",
      "  warn('Non-stationary starting autoregressive parameters'\n",
      "C:\\Users\\heyle\\Anaconda3_2020\\lib\\site-packages\\statsmodels\\tsa\\statespace\\sarimax.py:975: UserWarning: Non-invertible starting MA parameters found. Using zeros as starting parameters.\n",
      "  warn('Non-invertible starting MA parameters found.'\n",
      "C:\\Users\\heyle\\Anaconda3_2020\\lib\\site-packages\\statsmodels\\tsa\\statespace\\sarimax.py:963: UserWarning: Non-stationary starting autoregressive parameters found. Using zeros as starting parameters.\n",
      "  warn('Non-stationary starting autoregressive parameters'\n",
      "C:\\Users\\heyle\\Anaconda3_2020\\lib\\site-packages\\statsmodels\\tsa\\statespace\\sarimax.py:975: UserWarning: Non-invertible starting MA parameters found. Using zeros as starting parameters.\n",
      "  warn('Non-invertible starting MA parameters found.'\n",
      "C:\\Users\\heyle\\Anaconda3_2020\\lib\\site-packages\\statsmodels\\tsa\\statespace\\sarimax.py:963: UserWarning: Non-stationary starting autoregressive parameters found. Using zeros as starting parameters.\n",
      "  warn('Non-stationary starting autoregressive parameters'\n",
      "C:\\Users\\heyle\\Anaconda3_2020\\lib\\site-packages\\statsmodels\\tsa\\statespace\\sarimax.py:975: UserWarning: Non-invertible starting MA parameters found. Using zeros as starting parameters.\n",
      "  warn('Non-invertible starting MA parameters found.'\n",
      "C:\\Users\\heyle\\Anaconda3_2020\\lib\\site-packages\\statsmodels\\tsa\\statespace\\sarimax.py:963: UserWarning: Non-stationary starting autoregressive parameters found. Using zeros as starting parameters.\n",
      "  warn('Non-stationary starting autoregressive parameters'\n",
      "C:\\Users\\heyle\\Anaconda3_2020\\lib\\site-packages\\statsmodels\\tsa\\statespace\\sarimax.py:975: UserWarning: Non-invertible starting MA parameters found. Using zeros as starting parameters.\n",
      "  warn('Non-invertible starting MA parameters found.'\n",
      "C:\\Users\\heyle\\Anaconda3_2020\\lib\\site-packages\\statsmodels\\base\\model.py:568: ConvergenceWarning: Maximum Likelihood optimization failed to converge. Check mle_retvals\n",
      "  \"Check mle_retvals\", ConvergenceWarning)\n",
      "C:\\Users\\heyle\\Anaconda3_2020\\lib\\site-packages\\statsmodels\\tsa\\statespace\\sarimax.py:963: UserWarning: Non-stationary starting autoregressive parameters found. Using zeros as starting parameters.\n",
      "  warn('Non-stationary starting autoregressive parameters'\n",
      "C:\\Users\\heyle\\Anaconda3_2020\\lib\\site-packages\\statsmodels\\tsa\\statespace\\sarimax.py:975: UserWarning: Non-invertible starting MA parameters found. Using zeros as starting parameters.\n",
      "  warn('Non-invertible starting MA parameters found.'\n",
      "C:\\Users\\heyle\\Anaconda3_2020\\lib\\site-packages\\statsmodels\\tsa\\statespace\\sarimax.py:963: UserWarning: Non-stationary starting autoregressive parameters found. Using zeros as starting parameters.\n",
      "  warn('Non-stationary starting autoregressive parameters'\n",
      "C:\\Users\\heyle\\Anaconda3_2020\\lib\\site-packages\\statsmodels\\tsa\\statespace\\sarimax.py:975: UserWarning: Non-invertible starting MA parameters found. Using zeros as starting parameters.\n",
      "  warn('Non-invertible starting MA parameters found.'\n",
      "C:\\Users\\heyle\\Anaconda3_2020\\lib\\site-packages\\statsmodels\\base\\model.py:568: ConvergenceWarning: Maximum Likelihood optimization failed to converge. Check mle_retvals\n",
      "  \"Check mle_retvals\", ConvergenceWarning)\n",
      "C:\\Users\\heyle\\Anaconda3_2020\\lib\\site-packages\\statsmodels\\base\\model.py:568: ConvergenceWarning: Maximum Likelihood optimization failed to converge. Check mle_retvals\n",
      "  \"Check mle_retvals\", ConvergenceWarning)\n",
      "C:\\Users\\heyle\\Anaconda3_2020\\lib\\site-packages\\statsmodels\\tsa\\statespace\\sarimax.py:963: UserWarning: Non-stationary starting autoregressive parameters found. Using zeros as starting parameters.\n",
      "  warn('Non-stationary starting autoregressive parameters'\n",
      "C:\\Users\\heyle\\Anaconda3_2020\\lib\\site-packages\\statsmodels\\tsa\\statespace\\sarimax.py:975: UserWarning: Non-invertible starting MA parameters found. Using zeros as starting parameters.\n",
      "  warn('Non-invertible starting MA parameters found.'\n",
      "C:\\Users\\heyle\\Anaconda3_2020\\lib\\site-packages\\statsmodels\\base\\model.py:568: ConvergenceWarning: Maximum Likelihood optimization failed to converge. Check mle_retvals\n",
      "  \"Check mle_retvals\", ConvergenceWarning)\n",
      "C:\\Users\\heyle\\Anaconda3_2020\\lib\\site-packages\\statsmodels\\base\\model.py:568: ConvergenceWarning: Maximum Likelihood optimization failed to converge. Check mle_retvals\n",
      "  \"Check mle_retvals\", ConvergenceWarning)\n",
      "C:\\Users\\heyle\\Anaconda3_2020\\lib\\site-packages\\statsmodels\\tsa\\statespace\\sarimax.py:963: UserWarning: Non-stationary starting autoregressive parameters found. Using zeros as starting parameters.\n",
      "  warn('Non-stationary starting autoregressive parameters'\n",
      "C:\\Users\\heyle\\Anaconda3_2020\\lib\\site-packages\\statsmodels\\tsa\\statespace\\sarimax.py:975: UserWarning: Non-invertible starting MA parameters found. Using zeros as starting parameters.\n",
      "  warn('Non-invertible starting MA parameters found.'\n",
      "C:\\Users\\heyle\\Anaconda3_2020\\lib\\site-packages\\statsmodels\\base\\model.py:568: ConvergenceWarning: Maximum Likelihood optimization failed to converge. Check mle_retvals\n",
      "  \"Check mle_retvals\", ConvergenceWarning)\n",
      "C:\\Users\\heyle\\Anaconda3_2020\\lib\\site-packages\\statsmodels\\base\\model.py:568: ConvergenceWarning: Maximum Likelihood optimization failed to converge. Check mle_retvals\n",
      "  \"Check mle_retvals\", ConvergenceWarning)\n"
     ]
    },
    {
     "data": {
      "text/html": [
       "<table class=\"simpletable\">\n",
       "<caption>SARIMAX Results</caption>\n",
       "<tr>\n",
       "  <th>Dep. Variable:</th>                  <td>y</td>                <th>  No. Observations:  </th>   <td>2609</td>   \n",
       "</tr>\n",
       "<tr>\n",
       "  <th>Model:</th>           <td>SARIMAX(3, 2, 3)x(1, 0, [1], 5)</td> <th>  Log Likelihood     </th> <td>-4536.318</td>\n",
       "</tr>\n",
       "<tr>\n",
       "  <th>Date:</th>                   <td>Wed, 28 Oct 2020</td>         <th>  AIC                </th> <td>9092.637</td> \n",
       "</tr>\n",
       "<tr>\n",
       "  <th>Time:</th>                       <td>15:59:59</td>             <th>  BIC                </th> <td>9151.296</td> \n",
       "</tr>\n",
       "<tr>\n",
       "  <th>Sample:</th>                         <td>0</td>                <th>  HQIC               </th> <td>9113.888</td> \n",
       "</tr>\n",
       "<tr>\n",
       "  <th></th>                             <td> - 2609</td>             <th>                     </th>     <td> </td>    \n",
       "</tr>\n",
       "<tr>\n",
       "  <th>Covariance Type:</th>               <td>opg</td>               <th>                     </th>     <td> </td>    \n",
       "</tr>\n",
       "</table>\n",
       "<table class=\"simpletable\">\n",
       "<tr>\n",
       "      <td></td>         <th>coef</th>     <th>std err</th>      <th>z</th>      <th>P>|z|</th>  <th>[0.025</th>    <th>0.975]</th>  \n",
       "</tr>\n",
       "<tr>\n",
       "  <th>intercept</th> <td>    0.0006</td> <td>    0.000</td> <td>    1.440</td> <td> 0.150</td> <td>   -0.000</td> <td>    0.001</td>\n",
       "</tr>\n",
       "<tr>\n",
       "  <th>ar.L1</th>     <td>   -2.0944</td> <td>    0.016</td> <td> -127.122</td> <td> 0.000</td> <td>   -2.127</td> <td>   -2.062</td>\n",
       "</tr>\n",
       "<tr>\n",
       "  <th>ar.L2</th>     <td>   -1.4217</td> <td>    0.023</td> <td>  -60.604</td> <td> 0.000</td> <td>   -1.468</td> <td>   -1.376</td>\n",
       "</tr>\n",
       "<tr>\n",
       "  <th>ar.L3</th>     <td>   -0.2705</td> <td>    0.009</td> <td>  -28.480</td> <td> 0.000</td> <td>   -0.289</td> <td>   -0.252</td>\n",
       "</tr>\n",
       "<tr>\n",
       "  <th>ma.L1</th>     <td>    0.8101</td> <td>    0.015</td> <td>   54.319</td> <td> 0.000</td> <td>    0.781</td> <td>    0.839</td>\n",
       "</tr>\n",
       "<tr>\n",
       "  <th>ma.L2</th>     <td>   -0.9462</td> <td>    0.004</td> <td> -223.686</td> <td> 0.000</td> <td>   -0.954</td> <td>   -0.938</td>\n",
       "</tr>\n",
       "<tr>\n",
       "  <th>ma.L3</th>     <td>   -0.8487</td> <td>    0.014</td> <td>  -60.772</td> <td> 0.000</td> <td>   -0.876</td> <td>   -0.821</td>\n",
       "</tr>\n",
       "<tr>\n",
       "  <th>ar.S.L5</th>   <td>   -0.0362</td> <td>    0.084</td> <td>   -0.433</td> <td> 0.665</td> <td>   -0.200</td> <td>    0.128</td>\n",
       "</tr>\n",
       "<tr>\n",
       "  <th>ma.S.L5</th>   <td>   -0.0551</td> <td>    0.086</td> <td>   -0.643</td> <td> 0.521</td> <td>   -0.223</td> <td>    0.113</td>\n",
       "</tr>\n",
       "<tr>\n",
       "  <th>sigma2</th>    <td>    1.8873</td> <td>    0.016</td> <td>  115.471</td> <td> 0.000</td> <td>    1.855</td> <td>    1.919</td>\n",
       "</tr>\n",
       "</table>\n",
       "<table class=\"simpletable\">\n",
       "<tr>\n",
       "  <th>Ljung-Box (Q):</th>          <td>194.41</td> <th>  Jarque-Bera (JB):  </th> <td>89089.88</td>\n",
       "</tr>\n",
       "<tr>\n",
       "  <th>Prob(Q):</th>                 <td>0.00</td>  <th>  Prob(JB):          </th>   <td>0.00</td>  \n",
       "</tr>\n",
       "<tr>\n",
       "  <th>Heteroskedasticity (H):</th>  <td>25.41</td> <th>  Skew:              </th>   <td>-1.37</td> \n",
       "</tr>\n",
       "<tr>\n",
       "  <th>Prob(H) (two-sided):</th>     <td>0.00</td>  <th>  Kurtosis:          </th>   <td>31.51</td> \n",
       "</tr>\n",
       "</table><br/><br/>Warnings:<br/>[1] Covariance matrix calculated using the outer product of gradients (complex-step)."
      ],
      "text/plain": [
       "<class 'statsmodels.iolib.summary.Summary'>\n",
       "\"\"\"\n",
       "                                      SARIMAX Results                                      \n",
       "===========================================================================================\n",
       "Dep. Variable:                                   y   No. Observations:                 2609\n",
       "Model:             SARIMAX(3, 2, 3)x(1, 0, [1], 5)   Log Likelihood               -4536.318\n",
       "Date:                             Wed, 28 Oct 2020   AIC                           9092.637\n",
       "Time:                                     15:59:59   BIC                           9151.296\n",
       "Sample:                                          0   HQIC                          9113.888\n",
       "                                            - 2609                                         \n",
       "Covariance Type:                               opg                                         \n",
       "==============================================================================\n",
       "                 coef    std err          z      P>|z|      [0.025      0.975]\n",
       "------------------------------------------------------------------------------\n",
       "intercept      0.0006      0.000      1.440      0.150      -0.000       0.001\n",
       "ar.L1         -2.0944      0.016   -127.122      0.000      -2.127      -2.062\n",
       "ar.L2         -1.4217      0.023    -60.604      0.000      -1.468      -1.376\n",
       "ar.L3         -0.2705      0.009    -28.480      0.000      -0.289      -0.252\n",
       "ma.L1          0.8101      0.015     54.319      0.000       0.781       0.839\n",
       "ma.L2         -0.9462      0.004   -223.686      0.000      -0.954      -0.938\n",
       "ma.L3         -0.8487      0.014    -60.772      0.000      -0.876      -0.821\n",
       "ar.S.L5       -0.0362      0.084     -0.433      0.665      -0.200       0.128\n",
       "ma.S.L5       -0.0551      0.086     -0.643      0.521      -0.223       0.113\n",
       "sigma2         1.8873      0.016    115.471      0.000       1.855       1.919\n",
       "===================================================================================\n",
       "Ljung-Box (Q):                      194.41   Jarque-Bera (JB):             89089.88\n",
       "Prob(Q):                              0.00   Prob(JB):                         0.00\n",
       "Heteroskedasticity (H):              25.41   Skew:                            -1.37\n",
       "Prob(H) (two-sided):                  0.00   Kurtosis:                        31.51\n",
       "===================================================================================\n",
       "\n",
       "Warnings:\n",
       "[1] Covariance matrix calculated using the outer product of gradients (complex-step).\n",
       "\"\"\""
      ]
     },
     "execution_count": 51,
     "metadata": {},
     "output_type": "execute_result"
    }
   ],
   "source": [
    "# Load specific forecasting tools\n",
    "from statsmodels.tsa.statespace.sarimax import SARIMAX\n",
    "\n",
    "\n",
    "# Load specific forecasting tools\n",
    "from statsmodels.tsa.arima_model import ARMA,ARMAResults,ARIMA,ARIMAResults\n",
    "from statsmodels.graphics.tsaplots import plot_acf,plot_pacf # for determining (p,q) orders\n",
    "from pmdarima import auto_arima # for determining ARIMA orders\n",
    "\n",
    "# Finding pdq\n",
    "auto_arima(df['Close'],seasonal=True, m=5).summary()"
   ]
  },
  {
   "cell_type": "code",
   "execution_count": 55,
   "metadata": {},
   "outputs": [
    {
     "name": "stderr",
     "output_type": "stream",
     "text": [
      "C:\\Users\\heyle\\Anaconda3_2020\\lib\\site-packages\\statsmodels\\base\\model.py:568: ConvergenceWarning: Maximum Likelihood optimization failed to converge. Check mle_retvals\n",
      "  \"Check mle_retvals\", ConvergenceWarning)\n"
     ]
    },
    {
     "data": {
      "text/html": [
       "<table class=\"simpletable\">\n",
       "<caption>SARIMAX Results</caption>\n",
       "<tr>\n",
       "  <th>Dep. Variable:</th>                <td>Close</td>              <th>  No. Observations:  </th>   <td>2579</td>   \n",
       "</tr>\n",
       "<tr>\n",
       "  <th>Model:</th>           <td>SARIMAX(3, 2, 3)x(1, 0, [1], 5)</td> <th>  Log Likelihood     </th> <td>-4392.336</td>\n",
       "</tr>\n",
       "<tr>\n",
       "  <th>Date:</th>                   <td>Wed, 28 Oct 2020</td>         <th>  AIC                </th> <td>8802.672</td> \n",
       "</tr>\n",
       "<tr>\n",
       "  <th>Time:</th>                       <td>16:01:55</td>             <th>  BIC                </th> <td>8855.362</td> \n",
       "</tr>\n",
       "<tr>\n",
       "  <th>Sample:</th>                    <td>07-15-2010</td>            <th>  HQIC               </th> <td>8821.772</td> \n",
       "</tr>\n",
       "<tr>\n",
       "  <th></th>                          <td>- 06-02-2020</td>           <th>                     </th>     <td> </td>    \n",
       "</tr>\n",
       "<tr>\n",
       "  <th>Covariance Type:</th>               <td>opg</td>               <th>                     </th>     <td> </td>    \n",
       "</tr>\n",
       "</table>\n",
       "<table class=\"simpletable\">\n",
       "<tr>\n",
       "     <td></td>        <th>coef</th>     <th>std err</th>      <th>z</th>      <th>P>|z|</th>  <th>[0.025</th>    <th>0.975]</th>  \n",
       "</tr>\n",
       "<tr>\n",
       "  <th>ar.L1</th>   <td>   -2.0117</td> <td>    0.018</td> <td> -112.579</td> <td> 0.000</td> <td>   -2.047</td> <td>   -1.977</td>\n",
       "</tr>\n",
       "<tr>\n",
       "  <th>ar.L2</th>   <td>   -1.3108</td> <td>    0.025</td> <td>  -51.671</td> <td> 0.000</td> <td>   -1.360</td> <td>   -1.261</td>\n",
       "</tr>\n",
       "<tr>\n",
       "  <th>ar.L3</th>   <td>   -0.2219</td> <td>    0.011</td> <td>  -21.091</td> <td> 0.000</td> <td>   -0.242</td> <td>   -0.201</td>\n",
       "</tr>\n",
       "<tr>\n",
       "  <th>ma.L1</th>   <td>    0.7385</td> <td>    0.015</td> <td>   47.736</td> <td> 0.000</td> <td>    0.708</td> <td>    0.769</td>\n",
       "</tr>\n",
       "<tr>\n",
       "  <th>ma.L2</th>   <td>   -0.9421</td> <td>    0.003</td> <td> -302.485</td> <td> 0.000</td> <td>   -0.948</td> <td>   -0.936</td>\n",
       "</tr>\n",
       "<tr>\n",
       "  <th>ma.L3</th>   <td>   -0.7872</td> <td>    0.015</td> <td>  -51.761</td> <td> 0.000</td> <td>   -0.817</td> <td>   -0.757</td>\n",
       "</tr>\n",
       "<tr>\n",
       "  <th>ar.S.L5</th> <td>   -0.1533</td> <td>    0.052</td> <td>   -2.959</td> <td> 0.003</td> <td>   -0.255</td> <td>   -0.052</td>\n",
       "</tr>\n",
       "<tr>\n",
       "  <th>ma.S.L5</th> <td>    0.0137</td> <td>    0.054</td> <td>    0.253</td> <td> 0.800</td> <td>   -0.092</td> <td>    0.120</td>\n",
       "</tr>\n",
       "<tr>\n",
       "  <th>sigma2</th>  <td>    1.7656</td> <td>    0.015</td> <td>  120.423</td> <td> 0.000</td> <td>    1.737</td> <td>    1.794</td>\n",
       "</tr>\n",
       "</table>\n",
       "<table class=\"simpletable\">\n",
       "<tr>\n",
       "  <th>Ljung-Box (Q):</th>          <td>227.67</td> <th>  Jarque-Bera (JB):  </th> <td>103564.25</td>\n",
       "</tr>\n",
       "<tr>\n",
       "  <th>Prob(Q):</th>                 <td>0.00</td>  <th>  Prob(JB):          </th>   <td>0.00</td>   \n",
       "</tr>\n",
       "<tr>\n",
       "  <th>Heteroskedasticity (H):</th>  <td>23.69</td> <th>  Skew:              </th>   <td>-1.51</td>  \n",
       "</tr>\n",
       "<tr>\n",
       "  <th>Prob(H) (two-sided):</th>     <td>0.00</td>  <th>  Kurtosis:          </th>   <td>33.91</td>  \n",
       "</tr>\n",
       "</table><br/><br/>Warnings:<br/>[1] Covariance matrix calculated using the outer product of gradients (complex-step)."
      ],
      "text/plain": [
       "<class 'statsmodels.iolib.summary.Summary'>\n",
       "\"\"\"\n",
       "                                      SARIMAX Results                                      \n",
       "===========================================================================================\n",
       "Dep. Variable:                               Close   No. Observations:                 2579\n",
       "Model:             SARIMAX(3, 2, 3)x(1, 0, [1], 5)   Log Likelihood               -4392.336\n",
       "Date:                             Wed, 28 Oct 2020   AIC                           8802.672\n",
       "Time:                                     16:01:55   BIC                           8855.362\n",
       "Sample:                                 07-15-2010   HQIC                          8821.772\n",
       "                                      - 06-02-2020                                         \n",
       "Covariance Type:                               opg                                         \n",
       "==============================================================================\n",
       "                 coef    std err          z      P>|z|      [0.025      0.975]\n",
       "------------------------------------------------------------------------------\n",
       "ar.L1         -2.0117      0.018   -112.579      0.000      -2.047      -1.977\n",
       "ar.L2         -1.3108      0.025    -51.671      0.000      -1.360      -1.261\n",
       "ar.L3         -0.2219      0.011    -21.091      0.000      -0.242      -0.201\n",
       "ma.L1          0.7385      0.015     47.736      0.000       0.708       0.769\n",
       "ma.L2         -0.9421      0.003   -302.485      0.000      -0.948      -0.936\n",
       "ma.L3         -0.7872      0.015    -51.761      0.000      -0.817      -0.757\n",
       "ar.S.L5       -0.1533      0.052     -2.959      0.003      -0.255      -0.052\n",
       "ma.S.L5        0.0137      0.054      0.253      0.800      -0.092       0.120\n",
       "sigma2         1.7656      0.015    120.423      0.000       1.737       1.794\n",
       "===================================================================================\n",
       "Ljung-Box (Q):                      227.67   Jarque-Bera (JB):            103564.25\n",
       "Prob(Q):                              0.00   Prob(JB):                         0.00\n",
       "Heteroskedasticity (H):              23.69   Skew:                            -1.51\n",
       "Prob(H) (two-sided):                  0.00   Kurtosis:                        33.91\n",
       "===================================================================================\n",
       "\n",
       "Warnings:\n",
       "[1] Covariance matrix calculated using the outer product of gradients (complex-step).\n",
       "\"\"\""
      ]
     },
     "execution_count": 55,
     "metadata": {},
     "output_type": "execute_result"
    }
   ],
   "source": [
    "model=SARIMAX(train['Close'], order=(3,2,3), seasonal_order=(1, 0, 1, 5))\n",
    "\n",
    "results=model.fit()\n",
    "results.summary()"
   ]
  },
  {
   "cell_type": "code",
   "execution_count": 99,
   "metadata": {},
   "outputs": [
    {
     "name": "stdout",
     "output_type": "stream",
     "text": [
      "predicted=168.0882298, expected=173.520004\n",
      "predicted=173.4435714, expected=171.419998\n",
      "predicted=169.698037 , expected=174.550003\n",
      "predicted=176.4780838, expected=174.050003\n",
      "predicted=173.3623674, expected=169.809998\n",
      "predicted=172.8254141, expected=177.429993\n",
      "predicted=173.8426425, expected=179.21000700000002\n",
      "predicted=179.6504989, expected=174.570007\n",
      "predicted=175.4899331, expected=178.83999599999999\n",
      "predicted=178.7238411, expected=180.759995\n",
      "predicted=179.3930433, expected=182.53999299999998\n",
      "predicted=181.779317 , expected=183.600006\n",
      "predicted=184.0828451, expected=184.679993\n",
      "predicted=184.2019889, expected=186.740005\n",
      "predicted=186.011409 , expected=182.509995\n",
      "predicted=183.4478086, expected=179.75\n",
      "predicted=180.9469921, expected=180.529999\n",
      "predicted=179.8801879, expected=183.16000400000001\n",
      "predicted=182.8042913, expected=184.91000400000001\n",
      "predicted=184.6459716, expected=183.630005\n",
      "predicted=185.2634564, expected=185.66000400000001\n",
      "predicted=184.999521 , expected=183.429993\n",
      "predicted=184.0408173, expected=183.509995\n",
      "predicted=183.4777997, expected=183.509995\n",
      "predicted=183.5607641, expected=181.570007\n",
      "predicted=182.5157755, expected=181.809998\n",
      "predicted=181.7978564, expected=181.399994\n",
      "predicted=182.1889345, expected=183.25\n",
      "predicted=182.690176 , expected=182.830002\n",
      "predicted=183.5749301, expected=184.91000400000001\n",
      "predicted=184.6306211, expected=185.360001\n",
      "predicted=184.7892692, expected=182.919998\n",
      "predicted=185.0769335, expected=187.199997\n",
      "predicted=184.7873753, expected=188.360001\n",
      "predicted=185.2878732, expected=189.800003\n",
      "predicted=184.8972327, expected=196.83999599999999\n",
      "predicted=185.6082664, expected=186.270004\n",
      "predicted=185.3155467, expected=187.740005\n",
      "predicted=185.8366724, expected=188.940002\n",
      "predicted=185.8079153, expected=193.570007\n",
      "predicted=186.0458545, expected=194.240005\n",
      "predicted=186.2543108, expected=196.320007\n",
      "predicted=186.2608289, expected=195.149994\n",
      "predicted=186.6467939, expected=200.570007\n",
      "predicted=186.5381941, expected=201.91000400000001\n",
      "predicted=186.9712522, expected=197.83999599999999\n",
      "predicted=186.8838106, expected=200.33999599999999\n",
      "predicted=187.2483605, expected=196.330002\n",
      "predicted=187.2666769, expected=198.440002\n",
      "predicted=187.5049149, expected=203.509995\n",
      "predicted=187.6543938, expected=204.699997\n",
      "predicted=187.7702006, expected=206.259995\n",
      "predicted=188.0205059, expected=206.259995\n",
      "predicted=188.0639203, expected=210.69999700000002\n",
      "predicted=188.3546556, expected=208.25\n",
      "predicted=188.3891824, expected=212.830002\n",
      "predicted=188.6609668, expected=214.32000699999998\n",
      "predicted=188.7365378, expected=213.669998\n",
      "predicted=188.9527089, expected=207.070007\n",
      "predicted=189.0905942, expected=208.350006\n"
     ]
    },
    {
     "data": {
      "image/png": "[encoded data removed]",
      "text/plain": [
       "<Figure size 864x432 with 1 Axes>"
      ]
     },
     "metadata": {
      "needs_background": "light"
     },
     "output_type": "display_data"
    }
   ],
   "source": [
    "start=len(train)\n",
    "end=len(train)+len(test)-1\n",
    "predictions=results.predict(start=start, end=end, dynamic=False, typ='levels').rename('SARIMA(3, 2, 3)(1, 0, 1, 5) Predicions')\n",
    "\n",
    "for i in range(len(predictions)):\n",
    "    print(f\"predicted={predictions[i]:<11.10}, expected={test['Close'][i]}\")\n",
    "\n",
    "         \n",
    "title = 'Close_MSFT'\n",
    "ylabel='$'\n",
    "xlabel='date'\n",
    "\n",
    "ax = test['Close'].plot(legend=True,figsize=(12,6),title=title)\n",
    "predictions.plot(legend=True)\n",
    "ax.autoscale(axis='x',tight=True)\n",
    "ax.set(xlabel=xlabel, ylabel=ylabel);"
   ]
  },
  {
   "cell_type": "code",
   "execution_count": 100,
   "metadata": {},
   "outputs": [
    {
     "name": "stdout",
     "output_type": "stream",
     "text": [
      "SARIMA(3, 2, 3)(1, 0, 1, 5) MSE Error: 106.5055917\n",
      "SARIMA(3, 2, 3)(1, 0, 1, 5) RMSE Error: 10.32015463\n",
      "SARIMA(3, 2, 3)(1, 0, 1, 5) MAE Error: 7.224209734\n"
     ]
    }
   ],
   "source": [
    "from sklearn.metrics import mean_squared_error\n",
    "\n",
    "error = mean_squared_error(test['Close'], predictions)\n",
    "print(f'SARIMA(3, 2, 3)(1, 0, 1, 5) MSE Error: {error:11.10}')\n",
    "          \n",
    "from statsmodels.tools.eval_measures import rmse\n",
    "\n",
    "error = rmse(test['Close'], predictions)\n",
    "print(f'SARIMA(3, 2, 3)(1, 0, 1, 5) RMSE Error: {error:11.10}')\n",
    "\n",
    "from sklearn.metrics import mean_absolute_error\n",
    "error = mean_absolute_error(test['Close'], predictions)\n",
    "print(f'SARIMA(3, 2, 3)(1, 0, 1, 5) MAE Error: {error:11.10}')"
   ]
  },
  {
   "cell_type": "markdown",
   "metadata": {},
   "source": [
    "## 4-2. Recurrent Neural Network\n",
    "<div style=\"text-align: justify\">Recurrent Neural Network (RNN) is specifically designed to work with sequence data such as time series data, sentences, or music etc. One of common issues of RNN is that it tends to start overwriting the weights of the very beginning inputs especially in a really large sequence of data. Therefore, in order to make balance both the short term memory of the networks which is recently trained on and the long term memory that is very first trained on, LSTM (Long Short-Term Memory) memory cell was created to help this RNN network issue.</div>   "
   ]
  },
  {
   "cell_type": "code",
   "execution_count": 101,
   "metadata": {},
   "outputs": [],
   "source": [
    "# scale data\n",
    "from sklearn.preprocessing import MinMaxScaler\n",
    "scaler=MinMaxScaler()\n",
    "scaler.fit(train)\n",
    "scaled_train=scaler.transform(train)\n",
    "scaled_test=scaler.transform(test)"
   ]
  },
  {
   "cell_type": "code",
   "execution_count": 102,
   "metadata": {},
   "outputs": [],
   "source": [
    "from tensorflow import keras\n",
    "from keras.models import Sequential\n",
    "from keras.layers import Dense\n",
    "from keras.layers import LSTM"
   ]
  },
  {
   "cell_type": "code",
   "execution_count": 103,
   "metadata": {},
   "outputs": [],
   "source": [
    "from keras.preprocessing.sequence import TimeseriesGenerator\n",
    "#define generator\n",
    "n_input=len(test)\n",
    "n_features=1\n",
    "generator =TimeseriesGenerator(scaled_train, scaled_train, length=n_input, batch_size=1)"
   ]
  },
  {
   "cell_type": "code",
   "execution_count": 104,
   "metadata": {},
   "outputs": [
    {
     "name": "stderr",
     "output_type": "stream",
     "text": [
      "C:\\Users\\heyle\\Anaconda3_2020\\lib\\site-packages\\keras\\engine\\saving.py:341: UserWarning: No training configuration found in save file: the model was *not* compiled. Compile it manually.\n",
      "  warnings.warn('No training configuration found in save file: '\n"
     ]
    }
   ],
   "source": [
    "from keras.models import load_model\n",
    "new_model=load_model('RNN2.h5')"
   ]
  },
  {
   "cell_type": "code",
   "execution_count": 105,
   "metadata": {},
   "outputs": [
    {
     "name": "stdout",
     "output_type": "stream",
     "text": [
      "Model: \"sequential_2\"\n",
      "_________________________________________________________________\n",
      "Layer (type)                 Output Shape              Param #   \n",
      "=================================================================\n",
      "lstm_3 (LSTM)                (None, 60, 150)           91200     \n",
      "_________________________________________________________________\n",
      "lstm_4 (LSTM)                (None, 50)                40200     \n",
      "_________________________________________________________________\n",
      "dense_2 (Dense)              (None, 25)                1275      \n",
      "_________________________________________________________________\n",
      "dense_3 (Dense)              (None, 1)                 26        \n",
      "=================================================================\n",
      "Total params: 132,701\n",
      "Trainable params: 132,701\n",
      "Non-trainable params: 0\n",
      "_________________________________________________________________\n"
     ]
    }
   ],
   "source": [
    "new_model.summary()"
   ]
  },
  {
   "cell_type": "code",
   "execution_count": 106,
   "metadata": {},
   "outputs": [],
   "source": [
    "#Evaluate on test data\n",
    "first_eval_batch=scaled_train[-len(test):]\n",
    "first_eval_batch=first_eval_batch.reshape((1, n_input, n_features))\n",
    "\n",
    "test_predictions = []\n",
    "\n",
    "first_eval_batch = scaled_train[-n_input:]\n",
    "current_batch = first_eval_batch.reshape((1, n_input, n_features))\n",
    "\n",
    "for i in range(len(test)):\n",
    "    \n",
    "    # get prediction 1 time stamp ahead ([0] is for grabbing just the number instead of [array])\n",
    "    current_pred = new_model.predict(current_batch)[0]\n",
    "    \n",
    "    # store prediction\n",
    "    test_predictions.append(current_pred) \n",
    "    \n",
    "    # update batch to now include prediction and drop first value\n",
    "    current_batch = np.append(current_batch[:,1:,:],[[current_pred]],axis=1)"
   ]
  },
  {
   "cell_type": "code",
   "execution_count": 109,
   "metadata": {},
   "outputs": [
    {
     "name": "stderr",
     "output_type": "stream",
     "text": [
      "C:\\Users\\heyle\\Anaconda3_2020\\lib\\site-packages\\ipykernel_launcher.py:2: SettingWithCopyWarning: \n",
      "A value is trying to be set on a copy of a slice from a DataFrame.\n",
      "Try using .loc[row_indexer,col_indexer] = value instead\n",
      "\n",
      "See the caveats in the documentation: http://pandas.pydata.org/pandas-docs/stable/user_guide/indexing.html#returning-a-view-versus-a-copy\n",
      "  \n"
     ]
    },
    {
     "data": {
      "text/html": [
       "<div>\n",
       "<style scoped>\n",
       "    .dataframe tbody tr th:only-of-type {\n",
       "        vertical-align: middle;\n",
       "    }\n",
       "\n",
       "    .dataframe tbody tr th {\n",
       "        vertical-align: top;\n",
       "    }\n",
       "\n",
       "    .dataframe thead th {\n",
       "        text-align: right;\n",
       "    }\n",
       "</style>\n",
       "<table border=\"1\" class=\"dataframe\">\n",
       "  <thead>\n",
       "    <tr style=\"text-align: right;\">\n",
       "      <th></th>\n",
       "      <th>Close</th>\n",
       "      <th>Predictions</th>\n",
       "    </tr>\n",
       "    <tr>\n",
       "      <th>Date</th>\n",
       "      <th></th>\n",
       "      <th></th>\n",
       "    </tr>\n",
       "  </thead>\n",
       "  <tbody>\n",
       "    <tr>\n",
       "      <td>2020-04-22</td>\n",
       "      <td>173.520004</td>\n",
       "      <td>174.942258</td>\n",
       "    </tr>\n",
       "    <tr>\n",
       "      <td>2020-04-23</td>\n",
       "      <td>171.419998</td>\n",
       "      <td>175.693086</td>\n",
       "    </tr>\n",
       "    <tr>\n",
       "      <td>2020-04-24</td>\n",
       "      <td>174.550003</td>\n",
       "      <td>176.346247</td>\n",
       "    </tr>\n",
       "    <tr>\n",
       "      <td>2020-04-27</td>\n",
       "      <td>174.050003</td>\n",
       "      <td>176.931118</td>\n",
       "    </tr>\n",
       "    <tr>\n",
       "      <td>2020-04-28</td>\n",
       "      <td>169.809998</td>\n",
       "      <td>177.469623</td>\n",
       "    </tr>\n",
       "    <tr>\n",
       "      <td>2020-04-29</td>\n",
       "      <td>177.429993</td>\n",
       "      <td>177.978070</td>\n",
       "    </tr>\n",
       "    <tr>\n",
       "      <td>2020-04-30</td>\n",
       "      <td>179.210007</td>\n",
       "      <td>178.469007</td>\n",
       "    </tr>\n",
       "    <tr>\n",
       "      <td>2020-05-01</td>\n",
       "      <td>174.570007</td>\n",
       "      <td>178.951159</td>\n",
       "    </tr>\n",
       "    <tr>\n",
       "      <td>2020-05-04</td>\n",
       "      <td>178.839996</td>\n",
       "      <td>179.430435</td>\n",
       "    </tr>\n",
       "    <tr>\n",
       "      <td>2020-05-05</td>\n",
       "      <td>180.759995</td>\n",
       "      <td>179.910824</td>\n",
       "    </tr>\n",
       "    <tr>\n",
       "      <td>2020-05-06</td>\n",
       "      <td>182.539993</td>\n",
       "      <td>180.394975</td>\n",
       "    </tr>\n",
       "    <tr>\n",
       "      <td>2020-05-07</td>\n",
       "      <td>183.600006</td>\n",
       "      <td>180.884473</td>\n",
       "    </tr>\n",
       "    <tr>\n",
       "      <td>2020-05-08</td>\n",
       "      <td>184.679993</td>\n",
       "      <td>181.380226</td>\n",
       "    </tr>\n",
       "    <tr>\n",
       "      <td>2020-05-11</td>\n",
       "      <td>186.740005</td>\n",
       "      <td>181.882607</td>\n",
       "    </tr>\n",
       "    <tr>\n",
       "      <td>2020-05-12</td>\n",
       "      <td>182.509995</td>\n",
       "      <td>182.391714</td>\n",
       "    </tr>\n",
       "    <tr>\n",
       "      <td>2020-05-13</td>\n",
       "      <td>179.750000</td>\n",
       "      <td>182.907409</td>\n",
       "    </tr>\n",
       "    <tr>\n",
       "      <td>2020-05-14</td>\n",
       "      <td>180.529999</td>\n",
       "      <td>183.429221</td>\n",
       "    </tr>\n",
       "    <tr>\n",
       "      <td>2020-05-15</td>\n",
       "      <td>183.160004</td>\n",
       "      <td>183.956764</td>\n",
       "    </tr>\n",
       "    <tr>\n",
       "      <td>2020-05-18</td>\n",
       "      <td>184.910004</td>\n",
       "      <td>184.489567</td>\n",
       "    </tr>\n",
       "    <tr>\n",
       "      <td>2020-05-19</td>\n",
       "      <td>183.630005</td>\n",
       "      <td>185.027254</td>\n",
       "    </tr>\n",
       "    <tr>\n",
       "      <td>2020-05-20</td>\n",
       "      <td>185.660004</td>\n",
       "      <td>185.569295</td>\n",
       "    </tr>\n",
       "    <tr>\n",
       "      <td>2020-05-21</td>\n",
       "      <td>183.429993</td>\n",
       "      <td>186.115245</td>\n",
       "    </tr>\n",
       "    <tr>\n",
       "      <td>2020-05-22</td>\n",
       "      <td>183.509995</td>\n",
       "      <td>186.664662</td>\n",
       "    </tr>\n",
       "    <tr>\n",
       "      <td>2020-05-25</td>\n",
       "      <td>183.509995</td>\n",
       "      <td>187.217201</td>\n",
       "    </tr>\n",
       "    <tr>\n",
       "      <td>2020-05-26</td>\n",
       "      <td>181.570007</td>\n",
       "      <td>187.772566</td>\n",
       "    </tr>\n",
       "    <tr>\n",
       "      <td>2020-05-27</td>\n",
       "      <td>181.809998</td>\n",
       "      <td>188.330679</td>\n",
       "    </tr>\n",
       "    <tr>\n",
       "      <td>2020-05-28</td>\n",
       "      <td>181.399994</td>\n",
       "      <td>188.891353</td>\n",
       "    </tr>\n",
       "    <tr>\n",
       "      <td>2020-05-29</td>\n",
       "      <td>183.250000</td>\n",
       "      <td>189.454646</td>\n",
       "    </tr>\n",
       "    <tr>\n",
       "      <td>2020-06-01</td>\n",
       "      <td>182.830002</td>\n",
       "      <td>190.020165</td>\n",
       "    </tr>\n",
       "    <tr>\n",
       "      <td>2020-06-02</td>\n",
       "      <td>184.910004</td>\n",
       "      <td>190.588048</td>\n",
       "    </tr>\n",
       "    <tr>\n",
       "      <td>2020-06-03</td>\n",
       "      <td>185.360001</td>\n",
       "      <td>191.158176</td>\n",
       "    </tr>\n",
       "    <tr>\n",
       "      <td>2020-06-04</td>\n",
       "      <td>182.919998</td>\n",
       "      <td>191.730668</td>\n",
       "    </tr>\n",
       "    <tr>\n",
       "      <td>2020-06-05</td>\n",
       "      <td>187.199997</td>\n",
       "      <td>192.305366</td>\n",
       "    </tr>\n",
       "    <tr>\n",
       "      <td>2020-06-08</td>\n",
       "      <td>188.360001</td>\n",
       "      <td>192.882211</td>\n",
       "    </tr>\n",
       "    <tr>\n",
       "      <td>2020-06-09</td>\n",
       "      <td>189.800003</td>\n",
       "      <td>193.461420</td>\n",
       "    </tr>\n",
       "    <tr>\n",
       "      <td>2020-06-10</td>\n",
       "      <td>196.839996</td>\n",
       "      <td>194.042913</td>\n",
       "    </tr>\n",
       "    <tr>\n",
       "      <td>2020-06-11</td>\n",
       "      <td>186.270004</td>\n",
       "      <td>194.626691</td>\n",
       "    </tr>\n",
       "    <tr>\n",
       "      <td>2020-06-12</td>\n",
       "      <td>187.740005</td>\n",
       "      <td>195.212833</td>\n",
       "    </tr>\n",
       "    <tr>\n",
       "      <td>2020-06-15</td>\n",
       "      <td>188.940002</td>\n",
       "      <td>195.801496</td>\n",
       "    </tr>\n",
       "    <tr>\n",
       "      <td>2020-06-16</td>\n",
       "      <td>193.570007</td>\n",
       "      <td>196.392720</td>\n",
       "    </tr>\n",
       "    <tr>\n",
       "      <td>2020-06-17</td>\n",
       "      <td>194.240005</td>\n",
       "      <td>196.986307</td>\n",
       "    </tr>\n",
       "    <tr>\n",
       "      <td>2020-06-18</td>\n",
       "      <td>196.320007</td>\n",
       "      <td>197.582041</td>\n",
       "    </tr>\n",
       "    <tr>\n",
       "      <td>2020-06-19</td>\n",
       "      <td>195.149994</td>\n",
       "      <td>198.179962</td>\n",
       "    </tr>\n",
       "    <tr>\n",
       "      <td>2020-06-22</td>\n",
       "      <td>200.570007</td>\n",
       "      <td>198.780227</td>\n",
       "    </tr>\n",
       "    <tr>\n",
       "      <td>2020-06-23</td>\n",
       "      <td>201.910004</td>\n",
       "      <td>199.382796</td>\n",
       "    </tr>\n",
       "    <tr>\n",
       "      <td>2020-06-24</td>\n",
       "      <td>197.839996</td>\n",
       "      <td>199.987689</td>\n",
       "    </tr>\n",
       "    <tr>\n",
       "      <td>2020-06-25</td>\n",
       "      <td>200.339996</td>\n",
       "      <td>200.594966</td>\n",
       "    </tr>\n",
       "    <tr>\n",
       "      <td>2020-06-26</td>\n",
       "      <td>196.330002</td>\n",
       "      <td>201.204547</td>\n",
       "    </tr>\n",
       "    <tr>\n",
       "      <td>2020-06-29</td>\n",
       "      <td>198.440002</td>\n",
       "      <td>201.816531</td>\n",
       "    </tr>\n",
       "    <tr>\n",
       "      <td>2020-06-30</td>\n",
       "      <td>203.509995</td>\n",
       "      <td>202.430919</td>\n",
       "    </tr>\n",
       "    <tr>\n",
       "      <td>2020-07-01</td>\n",
       "      <td>204.699997</td>\n",
       "      <td>203.047827</td>\n",
       "    </tr>\n",
       "    <tr>\n",
       "      <td>2020-07-02</td>\n",
       "      <td>206.259995</td>\n",
       "      <td>203.667336</td>\n",
       "    </tr>\n",
       "    <tr>\n",
       "      <td>2020-07-03</td>\n",
       "      <td>206.259995</td>\n",
       "      <td>204.289424</td>\n",
       "    </tr>\n",
       "    <tr>\n",
       "      <td>2020-07-06</td>\n",
       "      <td>210.699997</td>\n",
       "      <td>204.914074</td>\n",
       "    </tr>\n",
       "    <tr>\n",
       "      <td>2020-07-07</td>\n",
       "      <td>208.250000</td>\n",
       "      <td>205.541363</td>\n",
       "    </tr>\n",
       "    <tr>\n",
       "      <td>2020-07-08</td>\n",
       "      <td>212.830002</td>\n",
       "      <td>206.171271</td>\n",
       "    </tr>\n",
       "    <tr>\n",
       "      <td>2020-07-09</td>\n",
       "      <td>214.320007</td>\n",
       "      <td>206.803898</td>\n",
       "    </tr>\n",
       "    <tr>\n",
       "      <td>2020-07-10</td>\n",
       "      <td>213.669998</td>\n",
       "      <td>207.439321</td>\n",
       "    </tr>\n",
       "    <tr>\n",
       "      <td>2020-07-13</td>\n",
       "      <td>207.070007</td>\n",
       "      <td>208.077463</td>\n",
       "    </tr>\n",
       "    <tr>\n",
       "      <td>2020-07-14</td>\n",
       "      <td>208.350006</td>\n",
       "      <td>208.718540</td>\n",
       "    </tr>\n",
       "  </tbody>\n",
       "</table>\n",
       "</div>"
      ],
      "text/plain": [
       "                 Close  Predictions\n",
       "Date                               \n",
       "2020-04-22  173.520004   174.942258\n",
       "2020-04-23  171.419998   175.693086\n",
       "2020-04-24  174.550003   176.346247\n",
       "2020-04-27  174.050003   176.931118\n",
       "2020-04-28  169.809998   177.469623\n",
       "2020-04-29  177.429993   177.978070\n",
       "2020-04-30  179.210007   178.469007\n",
       "2020-05-01  174.570007   178.951159\n",
       "2020-05-04  178.839996   179.430435\n",
       "2020-05-05  180.759995   179.910824\n",
       "2020-05-06  182.539993   180.394975\n",
       "2020-05-07  183.600006   180.884473\n",
       "2020-05-08  184.679993   181.380226\n",
       "2020-05-11  186.740005   181.882607\n",
       "2020-05-12  182.509995   182.391714\n",
       "2020-05-13  179.750000   182.907409\n",
       "2020-05-14  180.529999   183.429221\n",
       "2020-05-15  183.160004   183.956764\n",
       "2020-05-18  184.910004   184.489567\n",
       "2020-05-19  183.630005   185.027254\n",
       "2020-05-20  185.660004   185.569295\n",
       "2020-05-21  183.429993   186.115245\n",
       "2020-05-22  183.509995   186.664662\n",
       "2020-05-25  183.509995   187.217201\n",
       "2020-05-26  181.570007   187.772566\n",
       "2020-05-27  181.809998   188.330679\n",
       "2020-05-28  181.399994   188.891353\n",
       "2020-05-29  183.250000   189.454646\n",
       "2020-06-01  182.830002   190.020165\n",
       "2020-06-02  184.910004   190.588048\n",
       "2020-06-03  185.360001   191.158176\n",
       "2020-06-04  182.919998   191.730668\n",
       "2020-06-05  187.199997   192.305366\n",
       "2020-06-08  188.360001   192.882211\n",
       "2020-06-09  189.800003   193.461420\n",
       "2020-06-10  196.839996   194.042913\n",
       "2020-06-11  186.270004   194.626691\n",
       "2020-06-12  187.740005   195.212833\n",
       "2020-06-15  188.940002   195.801496\n",
       "2020-06-16  193.570007   196.392720\n",
       "2020-06-17  194.240005   196.986307\n",
       "2020-06-18  196.320007   197.582041\n",
       "2020-06-19  195.149994   198.179962\n",
       "2020-06-22  200.570007   198.780227\n",
       "2020-06-23  201.910004   199.382796\n",
       "2020-06-24  197.839996   199.987689\n",
       "2020-06-25  200.339996   200.594966\n",
       "2020-06-26  196.330002   201.204547\n",
       "2020-06-29  198.440002   201.816531\n",
       "2020-06-30  203.509995   202.430919\n",
       "2020-07-01  204.699997   203.047827\n",
       "2020-07-02  206.259995   203.667336\n",
       "2020-07-03  206.259995   204.289424\n",
       "2020-07-06  210.699997   204.914074\n",
       "2020-07-07  208.250000   205.541363\n",
       "2020-07-08  212.830002   206.171271\n",
       "2020-07-09  214.320007   206.803898\n",
       "2020-07-10  213.669998   207.439321\n",
       "2020-07-13  207.070007   208.077463\n",
       "2020-07-14  208.350006   208.718540"
      ]
     },
     "execution_count": 109,
     "metadata": {},
     "output_type": "execute_result"
    }
   ],
   "source": [
    "true_predictions=scaler.inverse_transform(test_predictions)\n",
    "test['Predictions']=true_predictions\n",
    "test"
   ]
  },
  {
   "cell_type": "code",
   "execution_count": 110,
   "metadata": {},
   "outputs": [
    {
     "data": {
      "text/plain": [
       "<matplotlib.axes._subplots.AxesSubplot at 0x1ec8b50f2c8>"
      ]
     },
     "execution_count": 110,
     "metadata": {},
     "output_type": "execute_result"
    },
    {
     "data": {
      "image/png": "[encoded data removed]",
      "text/plain": [
       "<Figure size 864x576 with 1 Axes>"
      ]
     },
     "metadata": {
      "needs_background": "light"
     },
     "output_type": "display_data"
    }
   ],
   "source": [
    "test.plot(figsize=(12,8))"
   ]
  },
  {
   "cell_type": "code",
   "execution_count": 115,
   "metadata": {},
   "outputs": [
    {
     "name": "stdout",
     "output_type": "stream",
     "text": [
      "MSE Error: 18.22071752\n",
      "RMSE Error: 4.268573242\n",
      "MAE Error: 3.527712492\n"
     ]
    }
   ],
   "source": [
    "from sklearn.metrics import mean_squared_error\n",
    "\n",
    "error = mean_squared_error(test['Close'], test['Predictions'])\n",
    "print(f'MSE Error: {error:11.10}')\n",
    "          \n",
    "from statsmodels.tools.eval_measures import rmse\n",
    "\n",
    "error = rmse(test['Close'],test['Predictions'])\n",
    "print(f'RMSE Error: {error:11.10}')\n",
    "\n",
    "from sklearn.metrics import mean_absolute_error\n",
    "error = mean_absolute_error(test['Close'], test['Predictions'])\n",
    "print(f'MAE Error: {error:11.10}')"
   ]
  },
  {
   "cell_type": "code",
   "execution_count": 116,
   "metadata": {},
   "outputs": [
    {
     "data": {
      "text/plain": [
       "<matplotlib.axes._subplots.AxesSubplot at 0x1ec8b9ab4c8>"
      ]
     },
     "execution_count": 116,
     "metadata": {},
     "output_type": "execute_result"
    },
    {
     "data": {
      "image/png": "[encoded data removed]",
      "text/plain": [
       "<Figure size 864x576 with 1 Axes>"
      ]
     },
     "metadata": {
      "needs_background": "light"
     },
     "output_type": "display_data"
    }
   ],
   "source": [
    "train['Close'].plot(legend=True,label='TRAIN')\n",
    "test['Close'].plot(legend=True,label='TEST',figsize=(12,8))\n",
    "test['Predictions'].plot(legend=True,label='Prediction', figsize=(12,8))"
   ]
  },
  {
   "cell_type": "code",
   "execution_count": 117,
   "metadata": {},
   "outputs": [],
   "source": [
    "# Forecasting the next 20 days\n",
    "test_predictions = []\n",
    "\n",
    "first_eval_batch = scaled_train[-n_input:]\n",
    "current_batch = first_eval_batch.reshape((1, n_input, n_features))\n",
    "\n",
    "for i in range(80):\n",
    "    \n",
    "    # get prediction 1 time stamp ahead ([0] is for grabbing just the number instead of [array])\n",
    "    current_pred = new_model.predict(current_batch)[0]\n",
    "    \n",
    "    # store prediction\n",
    "    test_predictions.append(current_pred) \n",
    "    \n",
    "    # update batch to now include prediction and drop first value\n",
    "    current_batch = np.append(current_batch[:,1:,:],[[current_pred]],axis=1)\n"
   ]
  },
  {
   "cell_type": "code",
   "execution_count": 127,
   "metadata": {},
   "outputs": [
    {
     "data": {
      "text/html": [
       "<div>\n",
       "<style scoped>\n",
       "    .dataframe tbody tr th:only-of-type {\n",
       "        vertical-align: middle;\n",
       "    }\n",
       "\n",
       "    .dataframe tbody tr th {\n",
       "        vertical-align: top;\n",
       "    }\n",
       "\n",
       "    .dataframe thead th {\n",
       "        text-align: right;\n",
       "    }\n",
       "</style>\n",
       "<table border=\"1\" class=\"dataframe\">\n",
       "  <thead>\n",
       "    <tr style=\"text-align: right;\">\n",
       "      <th></th>\n",
       "      <th>0</th>\n",
       "    </tr>\n",
       "  </thead>\n",
       "  <tbody>\n",
       "    <tr>\n",
       "      <td>0</td>\n",
       "      <td>209.362532</td>\n",
       "    </tr>\n",
       "    <tr>\n",
       "      <td>1</td>\n",
       "      <td>210.009498</td>\n",
       "    </tr>\n",
       "    <tr>\n",
       "      <td>2</td>\n",
       "      <td>210.659477</td>\n",
       "    </tr>\n",
       "    <tr>\n",
       "      <td>3</td>\n",
       "      <td>211.311525</td>\n",
       "    </tr>\n",
       "    <tr>\n",
       "      <td>4</td>\n",
       "      <td>211.965996</td>\n",
       "    </tr>\n",
       "    <tr>\n",
       "      <td>5</td>\n",
       "      <td>212.622633</td>\n",
       "    </tr>\n",
       "    <tr>\n",
       "      <td>6</td>\n",
       "      <td>213.281752</td>\n",
       "    </tr>\n",
       "    <tr>\n",
       "      <td>7</td>\n",
       "      <td>213.943451</td>\n",
       "    </tr>\n",
       "    <tr>\n",
       "      <td>8</td>\n",
       "      <td>214.607613</td>\n",
       "    </tr>\n",
       "    <tr>\n",
       "      <td>9</td>\n",
       "      <td>215.274138</td>\n",
       "    </tr>\n",
       "    <tr>\n",
       "      <td>10</td>\n",
       "      <td>215.942849</td>\n",
       "    </tr>\n",
       "    <tr>\n",
       "      <td>11</td>\n",
       "      <td>216.613747</td>\n",
       "    </tr>\n",
       "    <tr>\n",
       "      <td>12</td>\n",
       "      <td>217.286772</td>\n",
       "    </tr>\n",
       "    <tr>\n",
       "      <td>13</td>\n",
       "      <td>217.961807</td>\n",
       "    </tr>\n",
       "    <tr>\n",
       "      <td>14</td>\n",
       "      <td>218.638909</td>\n",
       "    </tr>\n",
       "    <tr>\n",
       "      <td>15</td>\n",
       "      <td>219.318060</td>\n",
       "    </tr>\n",
       "    <tr>\n",
       "      <td>16</td>\n",
       "      <td>219.999299</td>\n",
       "    </tr>\n",
       "    <tr>\n",
       "      <td>17</td>\n",
       "      <td>220.682645</td>\n",
       "    </tr>\n",
       "    <tr>\n",
       "      <td>18</td>\n",
       "      <td>221.368158</td>\n",
       "    </tr>\n",
       "    <tr>\n",
       "      <td>19</td>\n",
       "      <td>222.055798</td>\n",
       "    </tr>\n",
       "  </tbody>\n",
       "</table>\n",
       "</div>"
      ],
      "text/plain": [
       "             0\n",
       "0   209.362532\n",
       "1   210.009498\n",
       "2   210.659477\n",
       "3   211.311525\n",
       "4   211.965996\n",
       "5   212.622633\n",
       "6   213.281752\n",
       "7   213.943451\n",
       "8   214.607613\n",
       "9   215.274138\n",
       "10  215.942849\n",
       "11  216.613747\n",
       "12  217.286772\n",
       "13  217.961807\n",
       "14  218.638909\n",
       "15  219.318060\n",
       "16  219.999299\n",
       "17  220.682645\n",
       "18  221.368158\n",
       "19  222.055798"
      ]
     },
     "execution_count": 127,
     "metadata": {},
     "output_type": "execute_result"
    }
   ],
   "source": [
    "Pred_Forecasting=pd.DataFrame(test_predictions[60:])\n",
    "Pred_Forecasting=scaler.inverse_transform(Pred_Forecasting)\n",
    "Pred_Forecasting=pd.DataFrame(Pred_Forecasting)\n",
    "Pred_Forecasting"
   ]
  },
  {
   "cell_type": "code",
   "execution_count": 128,
   "metadata": {},
   "outputs": [
    {
     "data": {
      "text/plain": [
       "DatetimeIndex(['2020-07-15', '2020-07-16', '2020-07-17', '2020-07-20',\n",
       "               '2020-07-21', '2020-07-22', '2020-07-23', '2020-07-24',\n",
       "               '2020-07-27', '2020-07-28', '2020-07-29', '2020-07-30',\n",
       "               '2020-07-31', '2020-08-03', '2020-08-04', '2020-08-05',\n",
       "               '2020-08-06', '2020-08-07', '2020-08-10', '2020-08-11'],\n",
       "              dtype='datetime64[ns]', freq='B')"
      ]
     },
     "execution_count": 128,
     "metadata": {},
     "output_type": "execute_result"
    }
   ],
   "source": [
    "Date_Forecasting=pd.date_range(start='2020-07-15', periods=20, freq='B')\n",
    "Date_Forecasting"
   ]
  },
  {
   "cell_type": "code",
   "execution_count": 129,
   "metadata": {},
   "outputs": [
    {
     "data": {
      "text/html": [
       "<div>\n",
       "<style scoped>\n",
       "    .dataframe tbody tr th:only-of-type {\n",
       "        vertical-align: middle;\n",
       "    }\n",
       "\n",
       "    .dataframe tbody tr th {\n",
       "        vertical-align: top;\n",
       "    }\n",
       "\n",
       "    .dataframe thead th {\n",
       "        text-align: right;\n",
       "    }\n",
       "</style>\n",
       "<table border=\"1\" class=\"dataframe\">\n",
       "  <thead>\n",
       "    <tr style=\"text-align: right;\">\n",
       "      <th></th>\n",
       "      <th>0</th>\n",
       "      <th>Pred_Forecasting</th>\n",
       "      <th>Date</th>\n",
       "    </tr>\n",
       "  </thead>\n",
       "  <tbody>\n",
       "    <tr>\n",
       "      <td>0</td>\n",
       "      <td>209.362532</td>\n",
       "      <td>209.362532</td>\n",
       "      <td>2020-07-15</td>\n",
       "    </tr>\n",
       "    <tr>\n",
       "      <td>1</td>\n",
       "      <td>210.009498</td>\n",
       "      <td>210.009498</td>\n",
       "      <td>2020-07-16</td>\n",
       "    </tr>\n",
       "    <tr>\n",
       "      <td>2</td>\n",
       "      <td>210.659477</td>\n",
       "      <td>210.659477</td>\n",
       "      <td>2020-07-17</td>\n",
       "    </tr>\n",
       "    <tr>\n",
       "      <td>3</td>\n",
       "      <td>211.311525</td>\n",
       "      <td>211.311525</td>\n",
       "      <td>2020-07-20</td>\n",
       "    </tr>\n",
       "    <tr>\n",
       "      <td>4</td>\n",
       "      <td>211.965996</td>\n",
       "      <td>211.965996</td>\n",
       "      <td>2020-07-21</td>\n",
       "    </tr>\n",
       "    <tr>\n",
       "      <td>5</td>\n",
       "      <td>212.622633</td>\n",
       "      <td>212.622633</td>\n",
       "      <td>2020-07-22</td>\n",
       "    </tr>\n",
       "    <tr>\n",
       "      <td>6</td>\n",
       "      <td>213.281752</td>\n",
       "      <td>213.281752</td>\n",
       "      <td>2020-07-23</td>\n",
       "    </tr>\n",
       "    <tr>\n",
       "      <td>7</td>\n",
       "      <td>213.943451</td>\n",
       "      <td>213.943451</td>\n",
       "      <td>2020-07-24</td>\n",
       "    </tr>\n",
       "    <tr>\n",
       "      <td>8</td>\n",
       "      <td>214.607613</td>\n",
       "      <td>214.607613</td>\n",
       "      <td>2020-07-27</td>\n",
       "    </tr>\n",
       "    <tr>\n",
       "      <td>9</td>\n",
       "      <td>215.274138</td>\n",
       "      <td>215.274138</td>\n",
       "      <td>2020-07-28</td>\n",
       "    </tr>\n",
       "    <tr>\n",
       "      <td>10</td>\n",
       "      <td>215.942849</td>\n",
       "      <td>215.942849</td>\n",
       "      <td>2020-07-29</td>\n",
       "    </tr>\n",
       "    <tr>\n",
       "      <td>11</td>\n",
       "      <td>216.613747</td>\n",
       "      <td>216.613747</td>\n",
       "      <td>2020-07-30</td>\n",
       "    </tr>\n",
       "    <tr>\n",
       "      <td>12</td>\n",
       "      <td>217.286772</td>\n",
       "      <td>217.286772</td>\n",
       "      <td>2020-07-31</td>\n",
       "    </tr>\n",
       "    <tr>\n",
       "      <td>13</td>\n",
       "      <td>217.961807</td>\n",
       "      <td>217.961807</td>\n",
       "      <td>2020-08-03</td>\n",
       "    </tr>\n",
       "    <tr>\n",
       "      <td>14</td>\n",
       "      <td>218.638909</td>\n",
       "      <td>218.638909</td>\n",
       "      <td>2020-08-04</td>\n",
       "    </tr>\n",
       "    <tr>\n",
       "      <td>15</td>\n",
       "      <td>219.318060</td>\n",
       "      <td>219.318060</td>\n",
       "      <td>2020-08-05</td>\n",
       "    </tr>\n",
       "    <tr>\n",
       "      <td>16</td>\n",
       "      <td>219.999299</td>\n",
       "      <td>219.999299</td>\n",
       "      <td>2020-08-06</td>\n",
       "    </tr>\n",
       "    <tr>\n",
       "      <td>17</td>\n",
       "      <td>220.682645</td>\n",
       "      <td>220.682645</td>\n",
       "      <td>2020-08-07</td>\n",
       "    </tr>\n",
       "    <tr>\n",
       "      <td>18</td>\n",
       "      <td>221.368158</td>\n",
       "      <td>221.368158</td>\n",
       "      <td>2020-08-10</td>\n",
       "    </tr>\n",
       "    <tr>\n",
       "      <td>19</td>\n",
       "      <td>222.055798</td>\n",
       "      <td>222.055798</td>\n",
       "      <td>2020-08-11</td>\n",
       "    </tr>\n",
       "  </tbody>\n",
       "</table>\n",
       "</div>"
      ],
      "text/plain": [
       "             0  Pred_Forecasting       Date\n",
       "0   209.362532        209.362532 2020-07-15\n",
       "1   210.009498        210.009498 2020-07-16\n",
       "2   210.659477        210.659477 2020-07-17\n",
       "3   211.311525        211.311525 2020-07-20\n",
       "4   211.965996        211.965996 2020-07-21\n",
       "5   212.622633        212.622633 2020-07-22\n",
       "6   213.281752        213.281752 2020-07-23\n",
       "7   213.943451        213.943451 2020-07-24\n",
       "8   214.607613        214.607613 2020-07-27\n",
       "9   215.274138        215.274138 2020-07-28\n",
       "10  215.942849        215.942849 2020-07-29\n",
       "11  216.613747        216.613747 2020-07-30\n",
       "12  217.286772        217.286772 2020-07-31\n",
       "13  217.961807        217.961807 2020-08-03\n",
       "14  218.638909        218.638909 2020-08-04\n",
       "15  219.318060        219.318060 2020-08-05\n",
       "16  219.999299        219.999299 2020-08-06\n",
       "17  220.682645        220.682645 2020-08-07\n",
       "18  221.368158        221.368158 2020-08-10\n",
       "19  222.055798        222.055798 2020-08-11"
      ]
     },
     "execution_count": 129,
     "metadata": {},
     "output_type": "execute_result"
    }
   ],
   "source": [
    "\n",
    "Pred_Forecasting['Pred_Forecasting']=Pred_Forecasting\n",
    "Pred_Forecasting['Date']=Date_Forecasting\n",
    "\n",
    "Pred_Forecasting"
   ]
  },
  {
   "cell_type": "code",
   "execution_count": 130,
   "metadata": {},
   "outputs": [],
   "source": [
    "df_Forecasting=Pred_Forecasting[['Date', 'Pred_Forecasting']]\n",
    "df2=df_Forecasting.set_index('Date')"
   ]
  },
  {
   "cell_type": "code",
   "execution_count": 131,
   "metadata": {},
   "outputs": [
    {
     "data": {
      "text/plain": [
       "(13044.0, 13207.0)"
      ]
     },
     "execution_count": 131,
     "metadata": {},
     "output_type": "execute_result"
    },
    {
     "data": {
      "image/png": "[encoded data removed]",
      "text/plain": [
       "<Figure size 864x576 with 1 Axes>"
      ]
     },
     "metadata": {
      "needs_background": "light"
     },
     "output_type": "display_data"
    }
   ],
   "source": [
    "train['Close'].plot(legend=True,label='TRAIN')\n",
    "test['Close'].plot(legend=True,label='TEST',figsize=(12,8))\n",
    "test['Predictions'].plot(legend=True,label='Prediction', figsize=(12,8))\n",
    "df2['Pred_Forecasting'].plot(legend=True, label='Forecasting', figsize=(12,8))\n",
    "plt.xlim('2020-01-01','2020-08-15')"
   ]
  },
  {
   "cell_type": "markdown",
   "metadata": {},
   "source": [
    "## 4-3. Facebook's Prophet\n",
    "<div style=\"text-align: justify\">Prophet is an open source time series forecasting model from Facebook and it is designed to deal with the common features of business time series (Taylor and Letham, 2017). The Prophet procedure is an additive regression model with four components defined by equation below. The first component is a piecewise linear or logistic growth curve trend. Prophet automatically detects changes in trends by selecting changepoints from the data.  Second component is a yearly seasonal component modeled using Fourier series. Third component is holiday-effect using dummy variables and the last component is any noise. \n",
    "\n",
    "$y(t)\\ =\\ g(t)\\ +\\ s(t)\\ +\\ h(t)\\ +\\ \\varepsilon_t $     \n",
    "where,\n",
    "<br>\n",
    "g(t) = the trend function of non-periodic changes\n",
    "<br>\n",
    "s(t) = periodic changes\n",
    "<br>\n",
    "h(t) =  the effects of holidays \n",
    "<br>\n",
    "εt = any idiosyncratic changes\n",
    "<br>\n",
    "Training and test dataset are same with one used for previous methods. Last 60 days of data were used for test set.\n",
    "</div>"
   ]
  },
  {
   "cell_type": "code",
   "execution_count": 141,
   "metadata": {},
   "outputs": [
    {
     "name": "stderr",
     "output_type": "stream",
     "text": [
      "Importing plotly failed. Interactive plots will not work.\n"
     ]
    }
   ],
   "source": [
    "import pandas as pd\n",
    "from fbprophet import Prophet\n",
    "%matplotlib inline"
   ]
  },
  {
   "cell_type": "code",
   "execution_count": 158,
   "metadata": {},
   "outputs": [
    {
     "data": {
      "text/html": [
       "<div>\n",
       "<style scoped>\n",
       "    .dataframe tbody tr th:only-of-type {\n",
       "        vertical-align: middle;\n",
       "    }\n",
       "\n",
       "    .dataframe tbody tr th {\n",
       "        vertical-align: top;\n",
       "    }\n",
       "\n",
       "    .dataframe thead th {\n",
       "        text-align: right;\n",
       "    }\n",
       "</style>\n",
       "<table border=\"1\" class=\"dataframe\">\n",
       "  <thead>\n",
       "    <tr style=\"text-align: right;\">\n",
       "      <th></th>\n",
       "      <th>Date</th>\n",
       "      <th>Close</th>\n",
       "    </tr>\n",
       "  </thead>\n",
       "  <tbody>\n",
       "    <tr>\n",
       "      <td>0</td>\n",
       "      <td>2010-07-15</td>\n",
       "      <td>25.510000</td>\n",
       "    </tr>\n",
       "    <tr>\n",
       "      <td>1</td>\n",
       "      <td>2010-07-16</td>\n",
       "      <td>24.889999</td>\n",
       "    </tr>\n",
       "    <tr>\n",
       "      <td>2</td>\n",
       "      <td>2010-07-19</td>\n",
       "      <td>25.230000</td>\n",
       "    </tr>\n",
       "    <tr>\n",
       "      <td>3</td>\n",
       "      <td>2010-07-20</td>\n",
       "      <td>25.480000</td>\n",
       "    </tr>\n",
       "    <tr>\n",
       "      <td>4</td>\n",
       "      <td>2010-07-21</td>\n",
       "      <td>25.120001</td>\n",
       "    </tr>\n",
       "  </tbody>\n",
       "</table>\n",
       "</div>"
      ],
      "text/plain": [
       "        Date      Close\n",
       "0 2010-07-15  25.510000\n",
       "1 2010-07-16  24.889999\n",
       "2 2010-07-19  25.230000\n",
       "3 2010-07-20  25.480000\n",
       "4 2010-07-21  25.120001"
      ]
     },
     "execution_count": 158,
     "metadata": {},
     "output_type": "execute_result"
    }
   ],
   "source": [
    "df=df.reset_index(level=['Date'])\n",
    "df.head()"
   ]
  },
  {
   "cell_type": "code",
   "execution_count": 156,
   "metadata": {},
   "outputs": [
    {
     "data": {
      "text/html": [
       "<div>\n",
       "<style scoped>\n",
       "    .dataframe tbody tr th:only-of-type {\n",
       "        vertical-align: middle;\n",
       "    }\n",
       "\n",
       "    .dataframe tbody tr th {\n",
       "        vertical-align: top;\n",
       "    }\n",
       "\n",
       "    .dataframe thead th {\n",
       "        text-align: right;\n",
       "    }\n",
       "</style>\n",
       "<table border=\"1\" class=\"dataframe\">\n",
       "  <thead>\n",
       "    <tr style=\"text-align: right;\">\n",
       "      <th></th>\n",
       "      <th>ds</th>\n",
       "      <th>y</th>\n",
       "    </tr>\n",
       "  </thead>\n",
       "  <tbody>\n",
       "    <tr>\n",
       "      <td>0</td>\n",
       "      <td>2010-07-15</td>\n",
       "      <td>25.510000</td>\n",
       "    </tr>\n",
       "    <tr>\n",
       "      <td>1</td>\n",
       "      <td>2010-07-16</td>\n",
       "      <td>24.889999</td>\n",
       "    </tr>\n",
       "    <tr>\n",
       "      <td>2</td>\n",
       "      <td>2010-07-19</td>\n",
       "      <td>25.230000</td>\n",
       "    </tr>\n",
       "    <tr>\n",
       "      <td>3</td>\n",
       "      <td>2010-07-20</td>\n",
       "      <td>25.480000</td>\n",
       "    </tr>\n",
       "    <tr>\n",
       "      <td>4</td>\n",
       "      <td>2010-07-21</td>\n",
       "      <td>25.120001</td>\n",
       "    </tr>\n",
       "  </tbody>\n",
       "</table>\n",
       "</div>"
      ],
      "text/plain": [
       "          ds          y\n",
       "0 2010-07-15  25.510000\n",
       "1 2010-07-16  24.889999\n",
       "2 2010-07-19  25.230000\n",
       "3 2010-07-20  25.480000\n",
       "4 2010-07-21  25.120001"
      ]
     },
     "execution_count": 156,
     "metadata": {},
     "output_type": "execute_result"
    }
   ],
   "source": [
    "df.columns=['ds','y']\n",
    "df['ds']=pd.to_datetime(df['ds'])\n",
    "df.head()"
   ]
  },
  {
   "cell_type": "code",
   "execution_count": 144,
   "metadata": {},
   "outputs": [],
   "source": [
    "len(df)-60  #2549\n",
    "train=df.iloc[:2549]\n",
    "test=df.iloc[2549:]"
   ]
  },
  {
   "cell_type": "code",
   "execution_count": 145,
   "metadata": {},
   "outputs": [
    {
     "name": "stderr",
     "output_type": "stream",
     "text": [
      "INFO:fbprophet:Disabling daily seasonality. Run prophet with daily_seasonality=True to override this.\n"
     ]
    }
   ],
   "source": [
    "m=Prophet()\n",
    "m.fit(train)\n",
    "future=m.make_future_dataframe(periods=60, freq='B')\n",
    "forecast=m.predict(future)"
   ]
  },
  {
   "cell_type": "code",
   "execution_count": 146,
   "metadata": {},
   "outputs": [
    {
     "name": "stdout",
     "output_type": "stream",
     "text": [
      "<class 'pandas.core.frame.DataFrame'>\n",
      "RangeIndex: 2609 entries, 0 to 2608\n",
      "Data columns (total 19 columns):\n",
      "ds                            2609 non-null datetime64[ns]\n",
      "trend                         2609 non-null float64\n",
      "yhat_lower                    2609 non-null float64\n",
      "yhat_upper                    2609 non-null float64\n",
      "trend_lower                   2609 non-null float64\n",
      "trend_upper                   2609 non-null float64\n",
      "additive_terms                2609 non-null float64\n",
      "additive_terms_lower          2609 non-null float64\n",
      "additive_terms_upper          2609 non-null float64\n",
      "weekly                        2609 non-null float64\n",
      "weekly_lower                  2609 non-null float64\n",
      "weekly_upper                  2609 non-null float64\n",
      "yearly                        2609 non-null float64\n",
      "yearly_lower                  2609 non-null float64\n",
      "yearly_upper                  2609 non-null float64\n",
      "multiplicative_terms          2609 non-null float64\n",
      "multiplicative_terms_lower    2609 non-null float64\n",
      "multiplicative_terms_upper    2609 non-null float64\n",
      "yhat                          2609 non-null float64\n",
      "dtypes: datetime64[ns](1), float64(18)\n",
      "memory usage: 387.4 KB\n"
     ]
    }
   ],
   "source": [
    "forecast.info()"
   ]
  },
  {
   "cell_type": "code",
   "execution_count": 147,
   "metadata": {},
   "outputs": [
    {
     "data": {
      "text/html": [
       "<div>\n",
       "<style scoped>\n",
       "    .dataframe tbody tr th:only-of-type {\n",
       "        vertical-align: middle;\n",
       "    }\n",
       "\n",
       "    .dataframe tbody tr th {\n",
       "        vertical-align: top;\n",
       "    }\n",
       "\n",
       "    .dataframe thead th {\n",
       "        text-align: right;\n",
       "    }\n",
       "</style>\n",
       "<table border=\"1\" class=\"dataframe\">\n",
       "  <thead>\n",
       "    <tr style=\"text-align: right;\">\n",
       "      <th></th>\n",
       "      <th>ds</th>\n",
       "      <th>trend</th>\n",
       "      <th>yhat_lower</th>\n",
       "      <th>yhat_upper</th>\n",
       "      <th>trend_lower</th>\n",
       "      <th>trend_upper</th>\n",
       "      <th>additive_terms</th>\n",
       "      <th>additive_terms_lower</th>\n",
       "      <th>additive_terms_upper</th>\n",
       "      <th>weekly</th>\n",
       "      <th>weekly_lower</th>\n",
       "      <th>weekly_upper</th>\n",
       "      <th>yearly</th>\n",
       "      <th>yearly_lower</th>\n",
       "      <th>yearly_upper</th>\n",
       "      <th>multiplicative_terms</th>\n",
       "      <th>multiplicative_terms_lower</th>\n",
       "      <th>multiplicative_terms_upper</th>\n",
       "      <th>yhat</th>\n",
       "    </tr>\n",
       "  </thead>\n",
       "  <tbody>\n",
       "    <tr>\n",
       "      <td>0</td>\n",
       "      <td>2010-07-15</td>\n",
       "      <td>25.386084</td>\n",
       "      <td>20.363066</td>\n",
       "      <td>31.794989</td>\n",
       "      <td>25.386084</td>\n",
       "      <td>25.386084</td>\n",
       "      <td>0.777023</td>\n",
       "      <td>0.777023</td>\n",
       "      <td>0.777023</td>\n",
       "      <td>0.005555</td>\n",
       "      <td>0.005555</td>\n",
       "      <td>0.005555</td>\n",
       "      <td>0.771469</td>\n",
       "      <td>0.771469</td>\n",
       "      <td>0.771469</td>\n",
       "      <td>0.0</td>\n",
       "      <td>0.0</td>\n",
       "      <td>0.0</td>\n",
       "      <td>26.163107</td>\n",
       "    </tr>\n",
       "    <tr>\n",
       "      <td>1</td>\n",
       "      <td>2010-07-16</td>\n",
       "      <td>25.388449</td>\n",
       "      <td>20.707649</td>\n",
       "      <td>31.445136</td>\n",
       "      <td>25.388449</td>\n",
       "      <td>25.388449</td>\n",
       "      <td>0.911573</td>\n",
       "      <td>0.911573</td>\n",
       "      <td>0.911573</td>\n",
       "      <td>0.051928</td>\n",
       "      <td>0.051928</td>\n",
       "      <td>0.051928</td>\n",
       "      <td>0.859644</td>\n",
       "      <td>0.859644</td>\n",
       "      <td>0.859644</td>\n",
       "      <td>0.0</td>\n",
       "      <td>0.0</td>\n",
       "      <td>0.0</td>\n",
       "      <td>26.300021</td>\n",
       "    </tr>\n",
       "    <tr>\n",
       "      <td>2</td>\n",
       "      <td>2010-07-19</td>\n",
       "      <td>25.395543</td>\n",
       "      <td>21.413420</td>\n",
       "      <td>31.763963</td>\n",
       "      <td>25.395543</td>\n",
       "      <td>25.395543</td>\n",
       "      <td>1.009613</td>\n",
       "      <td>1.009613</td>\n",
       "      <td>1.009613</td>\n",
       "      <td>-0.059329</td>\n",
       "      <td>-0.059329</td>\n",
       "      <td>-0.059329</td>\n",
       "      <td>1.068942</td>\n",
       "      <td>1.068942</td>\n",
       "      <td>1.068942</td>\n",
       "      <td>0.0</td>\n",
       "      <td>0.0</td>\n",
       "      <td>0.0</td>\n",
       "      <td>26.405156</td>\n",
       "    </tr>\n",
       "    <tr>\n",
       "      <td>3</td>\n",
       "      <td>2010-07-20</td>\n",
       "      <td>25.397908</td>\n",
       "      <td>21.422096</td>\n",
       "      <td>32.262937</td>\n",
       "      <td>25.397908</td>\n",
       "      <td>25.397908</td>\n",
       "      <td>1.078658</td>\n",
       "      <td>1.078658</td>\n",
       "      <td>1.078658</td>\n",
       "      <td>-0.038030</td>\n",
       "      <td>-0.038030</td>\n",
       "      <td>-0.038030</td>\n",
       "      <td>1.116689</td>\n",
       "      <td>1.116689</td>\n",
       "      <td>1.116689</td>\n",
       "      <td>0.0</td>\n",
       "      <td>0.0</td>\n",
       "      <td>0.0</td>\n",
       "      <td>26.476566</td>\n",
       "    </tr>\n",
       "    <tr>\n",
       "      <td>4</td>\n",
       "      <td>2010-07-21</td>\n",
       "      <td>25.400272</td>\n",
       "      <td>21.052333</td>\n",
       "      <td>32.270784</td>\n",
       "      <td>25.400272</td>\n",
       "      <td>25.400272</td>\n",
       "      <td>1.107885</td>\n",
       "      <td>1.107885</td>\n",
       "      <td>1.107885</td>\n",
       "      <td>-0.044310</td>\n",
       "      <td>-0.044310</td>\n",
       "      <td>-0.044310</td>\n",
       "      <td>1.152196</td>\n",
       "      <td>1.152196</td>\n",
       "      <td>1.152196</td>\n",
       "      <td>0.0</td>\n",
       "      <td>0.0</td>\n",
       "      <td>0.0</td>\n",
       "      <td>26.508158</td>\n",
       "    </tr>\n",
       "  </tbody>\n",
       "</table>\n",
       "</div>"
      ],
      "text/plain": [
       "          ds      trend  yhat_lower  yhat_upper  trend_lower  trend_upper  \\\n",
       "0 2010-07-15  25.386084   20.363066   31.794989    25.386084    25.386084   \n",
       "1 2010-07-16  25.388449   20.707649   31.445136    25.388449    25.388449   \n",
       "2 2010-07-19  25.395543   21.413420   31.763963    25.395543    25.395543   \n",
       "3 2010-07-20  25.397908   21.422096   32.262937    25.397908    25.397908   \n",
       "4 2010-07-21  25.400272   21.052333   32.270784    25.400272    25.400272   \n",
       "\n",
       "   additive_terms  additive_terms_lower  additive_terms_upper    weekly  \\\n",
       "0        0.777023              0.777023              0.777023  0.005555   \n",
       "1        0.911573              0.911573              0.911573  0.051928   \n",
       "2        1.009613              1.009613              1.009613 -0.059329   \n",
       "3        1.078658              1.078658              1.078658 -0.038030   \n",
       "4        1.107885              1.107885              1.107885 -0.044310   \n",
       "\n",
       "   weekly_lower  weekly_upper    yearly  yearly_lower  yearly_upper  \\\n",
       "0      0.005555      0.005555  0.771469      0.771469      0.771469   \n",
       "1      0.051928      0.051928  0.859644      0.859644      0.859644   \n",
       "2     -0.059329     -0.059329  1.068942      1.068942      1.068942   \n",
       "3     -0.038030     -0.038030  1.116689      1.116689      1.116689   \n",
       "4     -0.044310     -0.044310  1.152196      1.152196      1.152196   \n",
       "\n",
       "   multiplicative_terms  multiplicative_terms_lower  \\\n",
       "0                   0.0                         0.0   \n",
       "1                   0.0                         0.0   \n",
       "2                   0.0                         0.0   \n",
       "3                   0.0                         0.0   \n",
       "4                   0.0                         0.0   \n",
       "\n",
       "   multiplicative_terms_upper       yhat  \n",
       "0                         0.0  26.163107  \n",
       "1                         0.0  26.300021  \n",
       "2                         0.0  26.405156  \n",
       "3                         0.0  26.476566  \n",
       "4                         0.0  26.508158  "
      ]
     },
     "execution_count": 147,
     "metadata": {},
     "output_type": "execute_result"
    }
   ],
   "source": [
    "forecast.head()"
   ]
  },
  {
   "cell_type": "code",
   "execution_count": 148,
   "metadata": {},
   "outputs": [
    {
     "data": {
      "text/html": [
       "<div>\n",
       "<style scoped>\n",
       "    .dataframe tbody tr th:only-of-type {\n",
       "        vertical-align: middle;\n",
       "    }\n",
       "\n",
       "    .dataframe tbody tr th {\n",
       "        vertical-align: top;\n",
       "    }\n",
       "\n",
       "    .dataframe thead th {\n",
       "        text-align: right;\n",
       "    }\n",
       "</style>\n",
       "<table border=\"1\" class=\"dataframe\">\n",
       "  <thead>\n",
       "    <tr style=\"text-align: right;\">\n",
       "      <th></th>\n",
       "      <th>ds</th>\n",
       "      <th>trend</th>\n",
       "      <th>yhat_lower</th>\n",
       "      <th>yhat_upper</th>\n",
       "      <th>trend_lower</th>\n",
       "      <th>trend_upper</th>\n",
       "      <th>additive_terms</th>\n",
       "      <th>additive_terms_lower</th>\n",
       "      <th>additive_terms_upper</th>\n",
       "      <th>weekly</th>\n",
       "      <th>weekly_lower</th>\n",
       "      <th>weekly_upper</th>\n",
       "      <th>yearly</th>\n",
       "      <th>yearly_lower</th>\n",
       "      <th>yearly_upper</th>\n",
       "      <th>multiplicative_terms</th>\n",
       "      <th>multiplicative_terms_lower</th>\n",
       "      <th>multiplicative_terms_upper</th>\n",
       "      <th>yhat</th>\n",
       "    </tr>\n",
       "  </thead>\n",
       "  <tbody>\n",
       "    <tr>\n",
       "      <td>2604</td>\n",
       "      <td>2020-07-08</td>\n",
       "      <td>171.305921</td>\n",
       "      <td>165.867526</td>\n",
       "      <td>177.094670</td>\n",
       "      <td>171.082126</td>\n",
       "      <td>171.537777</td>\n",
       "      <td>0.063561</td>\n",
       "      <td>0.063561</td>\n",
       "      <td>0.063561</td>\n",
       "      <td>-0.044310</td>\n",
       "      <td>-0.044310</td>\n",
       "      <td>-0.044310</td>\n",
       "      <td>0.107871</td>\n",
       "      <td>0.107871</td>\n",
       "      <td>0.107871</td>\n",
       "      <td>0.0</td>\n",
       "      <td>0.0</td>\n",
       "      <td>0.0</td>\n",
       "      <td>171.369481</td>\n",
       "    </tr>\n",
       "    <tr>\n",
       "      <td>2605</td>\n",
       "      <td>2020-07-09</td>\n",
       "      <td>171.405214</td>\n",
       "      <td>166.300423</td>\n",
       "      <td>177.221467</td>\n",
       "      <td>171.176628</td>\n",
       "      <td>171.643611</td>\n",
       "      <td>0.214956</td>\n",
       "      <td>0.214956</td>\n",
       "      <td>0.214956</td>\n",
       "      <td>0.005555</td>\n",
       "      <td>0.005555</td>\n",
       "      <td>0.005555</td>\n",
       "      <td>0.209401</td>\n",
       "      <td>0.209401</td>\n",
       "      <td>0.209401</td>\n",
       "      <td>0.0</td>\n",
       "      <td>0.0</td>\n",
       "      <td>0.0</td>\n",
       "      <td>171.620169</td>\n",
       "    </tr>\n",
       "    <tr>\n",
       "      <td>2606</td>\n",
       "      <td>2020-07-10</td>\n",
       "      <td>171.504507</td>\n",
       "      <td>166.328301</td>\n",
       "      <td>177.352985</td>\n",
       "      <td>171.271330</td>\n",
       "      <td>171.747981</td>\n",
       "      <td>0.365845</td>\n",
       "      <td>0.365845</td>\n",
       "      <td>0.365845</td>\n",
       "      <td>0.051928</td>\n",
       "      <td>0.051928</td>\n",
       "      <td>0.051928</td>\n",
       "      <td>0.313917</td>\n",
       "      <td>0.313917</td>\n",
       "      <td>0.313917</td>\n",
       "      <td>0.0</td>\n",
       "      <td>0.0</td>\n",
       "      <td>0.0</td>\n",
       "      <td>171.870352</td>\n",
       "    </tr>\n",
       "    <tr>\n",
       "      <td>2607</td>\n",
       "      <td>2020-07-13</td>\n",
       "      <td>171.802385</td>\n",
       "      <td>166.730226</td>\n",
       "      <td>177.758957</td>\n",
       "      <td>171.555033</td>\n",
       "      <td>172.074174</td>\n",
       "      <td>0.567455</td>\n",
       "      <td>0.567455</td>\n",
       "      <td>0.567455</td>\n",
       "      <td>-0.059329</td>\n",
       "      <td>-0.059329</td>\n",
       "      <td>-0.059329</td>\n",
       "      <td>0.626784</td>\n",
       "      <td>0.626784</td>\n",
       "      <td>0.626784</td>\n",
       "      <td>0.0</td>\n",
       "      <td>0.0</td>\n",
       "      <td>0.0</td>\n",
       "      <td>172.369840</td>\n",
       "    </tr>\n",
       "    <tr>\n",
       "      <td>2608</td>\n",
       "      <td>2020-07-14</td>\n",
       "      <td>171.901678</td>\n",
       "      <td>166.479542</td>\n",
       "      <td>177.777704</td>\n",
       "      <td>171.642724</td>\n",
       "      <td>172.183788</td>\n",
       "      <td>0.686666</td>\n",
       "      <td>0.686666</td>\n",
       "      <td>0.686666</td>\n",
       "      <td>-0.038030</td>\n",
       "      <td>-0.038030</td>\n",
       "      <td>-0.038030</td>\n",
       "      <td>0.724697</td>\n",
       "      <td>0.724697</td>\n",
       "      <td>0.724697</td>\n",
       "      <td>0.0</td>\n",
       "      <td>0.0</td>\n",
       "      <td>0.0</td>\n",
       "      <td>172.588344</td>\n",
       "    </tr>\n",
       "  </tbody>\n",
       "</table>\n",
       "</div>"
      ],
      "text/plain": [
       "             ds       trend  yhat_lower  yhat_upper  trend_lower  trend_upper  \\\n",
       "2604 2020-07-08  171.305921  165.867526  177.094670   171.082126   171.537777   \n",
       "2605 2020-07-09  171.405214  166.300423  177.221467   171.176628   171.643611   \n",
       "2606 2020-07-10  171.504507  166.328301  177.352985   171.271330   171.747981   \n",
       "2607 2020-07-13  171.802385  166.730226  177.758957   171.555033   172.074174   \n",
       "2608 2020-07-14  171.901678  166.479542  177.777704   171.642724   172.183788   \n",
       "\n",
       "      additive_terms  additive_terms_lower  additive_terms_upper    weekly  \\\n",
       "2604        0.063561              0.063561              0.063561 -0.044310   \n",
       "2605        0.214956              0.214956              0.214956  0.005555   \n",
       "2606        0.365845              0.365845              0.365845  0.051928   \n",
       "2607        0.567455              0.567455              0.567455 -0.059329   \n",
       "2608        0.686666              0.686666              0.686666 -0.038030   \n",
       "\n",
       "      weekly_lower  weekly_upper    yearly  yearly_lower  yearly_upper  \\\n",
       "2604     -0.044310     -0.044310  0.107871      0.107871      0.107871   \n",
       "2605      0.005555      0.005555  0.209401      0.209401      0.209401   \n",
       "2606      0.051928      0.051928  0.313917      0.313917      0.313917   \n",
       "2607     -0.059329     -0.059329  0.626784      0.626784      0.626784   \n",
       "2608     -0.038030     -0.038030  0.724697      0.724697      0.724697   \n",
       "\n",
       "      multiplicative_terms  multiplicative_terms_lower  \\\n",
       "2604                   0.0                         0.0   \n",
       "2605                   0.0                         0.0   \n",
       "2606                   0.0                         0.0   \n",
       "2607                   0.0                         0.0   \n",
       "2608                   0.0                         0.0   \n",
       "\n",
       "      multiplicative_terms_upper        yhat  \n",
       "2604                         0.0  171.369481  \n",
       "2605                         0.0  171.620169  \n",
       "2606                         0.0  171.870352  \n",
       "2607                         0.0  172.369840  \n",
       "2608                         0.0  172.588344  "
      ]
     },
     "execution_count": 148,
     "metadata": {},
     "output_type": "execute_result"
    }
   ],
   "source": [
    "forecast.tail()"
   ]
  },
  {
   "cell_type": "code",
   "execution_count": 149,
   "metadata": {},
   "outputs": [],
   "source": [
    "pd.plotting.register_matplotlib_converters()"
   ]
  },
  {
   "cell_type": "code",
   "execution_count": 150,
   "metadata": {},
   "outputs": [
    {
     "data": {
      "text/plain": [
       "<matplotlib.axes._subplots.AxesSubplot at 0x1ec8c57a6c8>"
      ]
     },
     "execution_count": 150,
     "metadata": {},
     "output_type": "execute_result"
    },
    {
     "data": {
      "image/png": "[encoded data removed]",
      "text/plain": [
       "<Figure size 864x576 with 1 Axes>"
      ]
     },
     "metadata": {
      "needs_background": "light"
     },
     "output_type": "display_data"
    }
   ],
   "source": [
    "ax=forecast.plot(x='ds', y='yhat', label='Predictions',legend=True, figsize=(12,8),color='orange')\n",
    "#test.plot(x='ds', y='y',label='True Test Data',legend=True, ax=ax, xlim=('2020-05-20','2020-07-14'))\n",
    "test.plot(x='ds', y='y',label='True Test Data',legend=True, ax=ax, color='blue')"
   ]
  },
  {
   "cell_type": "code",
   "execution_count": 151,
   "metadata": {},
   "outputs": [
    {
     "data": {
      "text/plain": [
       "(160.0, 220.0)"
      ]
     },
     "execution_count": 151,
     "metadata": {},
     "output_type": "execute_result"
    },
    {
     "data": {
      "image/png": "[encoded data removed]",
      "text/plain": [
       "<Figure size 864x576 with 1 Axes>"
      ]
     },
     "metadata": {
      "needs_background": "light"
     },
     "output_type": "display_data"
    }
   ],
   "source": [
    "import matplotlib.pyplot as plt\n",
    "ax=forecast.plot(x='ds', y='yhat', label='Predictions',legend=True, figsize=(12,8),color='orange')\n",
    "#test.plot(x='ds', y='y',label='True Test Data',legend=True, ax=ax, xlim=('2020-05-20','2020-07-14'))\n",
    "test.plot(x='ds', y='y',label='True Test Data',legend=True, ax=ax, color='blue')\n",
    "plt.xlim('2020-04-22','2020-07-14')\n",
    "plt.ylim(160, 220)"
   ]
  },
  {
   "cell_type": "code",
   "execution_count": 153,
   "metadata": {},
   "outputs": [
    {
     "name": "stdout",
     "output_type": "stream",
     "text": [
      "Prophet MAE Error: 21.85802069\n",
      "Prophet MSE Error: 567.0773063\n",
      "Prophet RMSE Error: 23.81338502\n"
     ]
    }
   ],
   "source": [
    "predictions=forecast.iloc[-60:]['yhat']\n",
    "\n",
    "from sklearn.metrics import mean_absolute_error\n",
    "error = mean_absolute_error(test['y'], predictions)\n",
    "print(f'Prophet MAE Error: {error:11.10}')\n",
    "\n",
    "from sklearn.metrics import mean_squared_error\n",
    "\n",
    "error = mean_squared_error(test['y'], predictions)\n",
    "print(f'Prophet MSE Error: {error:11.10}')\n",
    "          \n",
    "from statsmodels.tools.eval_measures import rmse\n",
    "\n",
    "error = rmse(test['y'], predictions)\n",
    "print(f'Prophet RMSE Error: {error:11.10}')\n",
    "        \n"
   ]
  },
  {
   "cell_type": "markdown",
   "metadata": {},
   "source": [
    "## 5. Summary of results\n",
    "\n",
    "Model evaluation metrics from all three methods\n",
    "\n",
    "|Result\t|     Method 1 (SARIMA)|     Method2 (RNN)|     Method3 (Prophet)|\n",
    "|-\t|-\t|-\t|-\t|\n",
    "|MAE| 7.2 | 3.5\t|  21.9\t|  \n",
    "|MSE|  106.5|18.2  \t|567.1|  \t\n",
    "|RMSE|  10.3\t|4.3  \t|23.8  \t|  \t\n",
    "<br>\n",
    "\n",
    "The last 60 days of data were used as a test set and three model evaluation metrics were used: mean absolute error, mean squared error, and root mean squared error. Even though the Autoregressive Integrated Moving Average (ARIMA) model has been widely used, it cannot capture nonlinear patterns. RNN model shows the best result compared to other two models and accurate prediction models could provide profitable investment decisions."
   ]
  },
  {
   "cell_type": "code",
   "execution_count": null,
   "metadata": {},
   "outputs": [],
   "source": []
  }
 ],
 "metadata": {
  "kernelspec": {
   "display_name": "Python 3",
   "language": "python",
   "name": "python3"
  },
  "language_info": {
   "codemirror_mode": {
    "name": "ipython",
    "version": 3
   },
   "file_extension": ".py",
   "mimetype": "text/x-python",
   "name": "python",
   "nbconvert_exporter": "python",
   "pygments_lexer": "ipython3",
   "version": "3.7.4"
  }
 },
 "nbformat": 4,
 "nbformat_minor": 2
}
